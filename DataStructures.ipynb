{
 "cells": [
  {
   "cell_type": "markdown",
   "metadata": {},
   "source": [
    "*********** DATA STRUCTURE *****************\n"
   ]
  },
  {
   "cell_type": "markdown",
   "metadata": {},
   "source": [
    "![alt text](image.png)"
   ]
  },
  {
   "cell_type": "code",
   "execution_count": 8,
   "metadata": {},
   "outputs": [
    {
     "name": "stdout",
     "output_type": "stream",
     "text": [
      "3160430427648 3160430193040 3160430192720\n",
      "<__main__.Node object at 0x000002DFD851A990>\n",
      "3160430193040\n",
      "3\n"
     ]
    }
   ],
   "source": [
    "## LINKED LIST\n",
    "\"\"\"\n",
    "It's a linear DATA STRUCTURE like arrays or list\n",
    "\n",
    "\"\"\"\n",
    "## Create a Node of LL\n",
    "class Node:\n",
    "    def __init__(self,value):\n",
    "        self.data=value\n",
    "        self.next=None\n",
    "    \n",
    "first=Node(1)\n",
    "second=Node(2)\n",
    "third=Node(3)\n",
    "\n",
    "print(id(first),id(second),id(third))\n",
    "first.next=second\n",
    "second.next=third\n",
    "head=first\n",
    "print(first.next)\n",
    "\n",
    "print(int(0x000002DFD851A990))\n",
    "\n",
    "print(first.next.next.data)\n",
    "\n",
    "## for representation check above image"
   ]
  },
  {
   "cell_type": "code",
   "execution_count": null,
   "metadata": {},
   "outputs": [],
   "source": []
  }
 ],
 "metadata": {
  "kernelspec": {
   "display_name": "Python 3",
   "language": "python",
   "name": "python3"
  },
  "language_info": {
   "codemirror_mode": {
    "name": "ipython",
    "version": 3
   },
   "file_extension": ".py",
   "mimetype": "text/x-python",
   "name": "python",
   "nbconvert_exporter": "python",
   "pygments_lexer": "ipython3",
   "version": "3.13.0"
  }
 },
 "nbformat": 4,
 "nbformat_minor": 2
}
