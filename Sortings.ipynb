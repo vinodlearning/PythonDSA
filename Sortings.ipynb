{
 "cells": [
  {
   "cell_type": "markdown",
   "metadata": {},
   "source": [
    "*********** Bubble Sort Algorithm *************"
   ]
  },
  {
   "cell_type": "code",
   "execution_count": null,
   "metadata": {},
   "outputs": [
    {
     "name": "stdout",
     "output_type": "stream",
     "text": [
      "The sorted List is-->[1, 3, 4, 5, 6, 7]\n"
     ]
    }
   ],
   "source": [
    "def bubble_sort(arr):\n",
    "    n=len(arr)\n",
    "    for passess in range(n-1):##this is we added to skip the last element bcz it's already placed at the right position\n",
    "        sorted=False\n",
    "        for index in range(0,n-1-passess):\n",
    "            if(arr[index]>arr[index+1]):\n",
    "                arr[index],arr[index+1]=arr[index+1],arr[index]\n",
    "                sorted=True\n",
    "        if not sorted:\n",
    "            break\n",
    "\n",
    "    return arr\n",
    "\n",
    "\n",
    "\n",
    "\n",
    "\n",
    "\n",
    "unsorted_list=[1,3,4,5,7,6]##[12,25,11,34,90,22]\n",
    "sorted_list=bubble_sort(unsorted_list)\n",
    "print(f\"The sorted List is-->{sorted_list}\")"
   ]
  },
  {
   "cell_type": "markdown",
   "metadata": {},
   "source": [
    "*************** Selection Sorting **************"
   ]
  },
  {
   "cell_type": "code",
   "execution_count": 18,
   "metadata": {},
   "outputs": [
    {
     "name": "stdout",
     "output_type": "stream",
     "text": [
      "The sorted List is-->[10, 13, 14, 29, 37]\n"
     ]
    }
   ],
   "source": [
    "def selection_sort(arr):\n",
    "    n=len(arr)\n",
    "    for passes in range(n):\n",
    "        min_index=passes\n",
    "        for i in range(passes+1,n):        \n",
    "            if arr[min_index]>arr[i]:\n",
    "                min_index=i\n",
    "        if min_index!=passes:\n",
    "            arr[passes],arr[min_index]=arr[min_index] ,arr[passes]\n",
    "\n",
    "\n",
    "    return arr\n",
    "\n",
    "\n",
    "\n",
    "\n",
    "\n",
    "\n",
    "\n",
    "\n",
    "\n",
    "\n",
    "unsorted_list=[29, 10, 14, 37, 13]##[64, 25, 12, 22, 11]##[12,25,11,34,90,22]\n",
    "sorted_list=selection_sort(unsorted_list)\n",
    "print(f\"The sorted List is-->{sorted_list}\")"
   ]
  },
  {
   "cell_type": "markdown",
   "metadata": {},
   "source": [
    "************ Insertion Sorting ****************"
   ]
  },
  {
   "cell_type": "code",
   "execution_count": 19,
   "metadata": {},
   "outputs": [
    {
     "name": "stdout",
     "output_type": "stream",
     "text": [
      "The sorted List is-->[11, 12, 22, 25, 34, 90]\n"
     ]
    }
   ],
   "source": [
    "def insertion_sort(arr):\n",
    "    n= len(arr)\n",
    "    for i in range(1,n):\n",
    "        currentVal=arr[i]\n",
    "        currentIndex=i\n",
    "        while currentIndex>0 and arr[currentIndex-1]>currentVal:\n",
    "            arr[currentIndex]=arr[currentIndex-1]\n",
    "            currentIndex-=1\n",
    "\n",
    "        arr[currentIndex]=currentVal\n",
    "\n",
    "    return arr\n",
    "\n",
    "\n",
    "\n",
    "\n",
    "\n",
    "\n",
    "\n",
    "\n",
    "\n",
    "unsorted_list=[12,25,11,34,90,22]##[29, 10, 14, 37, 13][64, 25, 12, 22, 11]##[12,25,11,34,90,22]\n",
    "sorted_list=insertion_sort(unsorted_list)\n",
    "print(f\"The sorted List is-->{sorted_list}\")"
   ]
  }
 ],
 "metadata": {
  "kernelspec": {
   "display_name": "Python 3",
   "language": "python",
   "name": "python3"
  },
  "language_info": {
   "codemirror_mode": {
    "name": "ipython",
    "version": 3
   },
   "file_extension": ".py",
   "mimetype": "text/x-python",
   "name": "python",
   "nbconvert_exporter": "python",
   "pygments_lexer": "ipython3",
   "version": "3.13.0"
  }
 },
 "nbformat": 4,
 "nbformat_minor": 2
}
