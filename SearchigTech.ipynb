{
 "cells": [
  {
   "cell_type": "markdown",
   "metadata": {},
   "source": [
    "************ THis I\"M USING FOR Search Algorithms ************"
   ]
  },
  {
   "cell_type": "markdown",
   "metadata": {},
   "source": [
    "*********** Binary Search **************\n",
    "\n",
    "\n",
    "result1 = 7 / 3  # Output: 2.333...\n",
    "\n",
    "# Floor division\n",
    "result2 = 7 // 3  # Output: 2\n"
   ]
  },
  {
   "cell_type": "code",
   "execution_count": 1,
   "metadata": {},
   "outputs": [
    {
     "name": "stdout",
     "output_type": "stream",
     "text": [
      "Found the target element at the position of : 6\n"
     ]
    }
   ],
   "source": [
    "def binary_search(arr,target):\n",
    "    size=len(arr)\n",
    "    firstPointer=0\n",
    "    lastPointer=(size-1)\n",
    "    while firstPointer<=lastPointer:\n",
    "        mid=(firstPointer+lastPointer)//2##In Python, // is the floor division operator. \n",
    "        if(target==arr[mid]):\n",
    "            return mid\n",
    "        elif target>arr[mid]:\n",
    "            firstPointer=mid+1\n",
    "        else:\n",
    "            lastPointer=mid-1\n",
    "    return -1\n",
    "\n",
    "\n",
    "sorted_lits=[10,23,35,45,50,70,85]\n",
    "target=85\n",
    "print(f\"Found the target element at the position of : {binary_search(sorted_lits,target)}\")\n"
   ]
  },
  {
   "cell_type": "markdown",
   "metadata": {},
   "source": [
    "******************Linear Search Algorithm **************"
   ]
  },
  {
   "cell_type": "code",
   "execution_count": 2,
   "metadata": {},
   "outputs": [
    {
     "name": "stdout",
     "output_type": "stream",
     "text": [
      " The target value is : -1\n"
     ]
    }
   ],
   "source": [
    "def linear_search(arr,target):\n",
    "    size=len(arr)\n",
    "    for index in range(0,size):\n",
    "        if arr[index]==target:\n",
    "            return index\n",
    "\n",
    "    return -1\n",
    "\n",
    "\n",
    "my_list=[10,23,45,70,11]\n",
    "target=700\n",
    "result=linear_search(my_list,target)\n",
    "print(f\" The target value is : {result}\")\n",
    "\n"
   ]
  }
 ],
 "metadata": {
  "kernelspec": {
   "display_name": "Python 3",
   "language": "python",
   "name": "python3"
  },
  "language_info": {
   "codemirror_mode": {
    "name": "ipython",
    "version": 3
   },
   "file_extension": ".py",
   "mimetype": "text/x-python",
   "name": "python",
   "nbconvert_exporter": "python",
   "pygments_lexer": "ipython3",
   "version": "3.13.0"
  }
 },
 "nbformat": 4,
 "nbformat_minor": 2
}
