{
  "nbformat": 4,
  "nbformat_minor": 0,
  "metadata": {
    "colab": {
      "provenance": [],
      "authorship_tag": "ABX9TyMsdrJ9F0gwui7VXylTJiBc",
      "include_colab_link": true
    },
    "kernelspec": {
      "name": "python3",
      "display_name": "Python 3"
    },
    "language_info": {
      "name": "python"
    }
  },
  "cells": [
    {
      "cell_type": "markdown",
      "metadata": {
        "id": "view-in-github",
        "colab_type": "text"
      },
      "source": [
        "<a href=\"https://colab.research.google.com/github/vinodlearning/PythonDSA/blob/main/DSA_CRIO_Pyrthon.ipynb\" target=\"_parent\"><img src=\"https://colab.research.google.com/assets/colab-badge.svg\" alt=\"Open In Colab\"/></a>"
      ]
    },
    {
      "cell_type": "code",
      "execution_count": null,
      "metadata": {
        "id": "Se2viopC78T4"
      },
      "outputs": [],
      "source": [
        "\"\"\"\n",
        "Problem Description\n",
        "Given a sorted array of integers and a target, find if there’s a pair of elements that add up to the target. Return true if such a pair can be found, and false otherwise.\n",
        "\n",
        "Input format\n",
        "There are 3 lines of input.\n",
        "\n",
        "First line contains an Integer N that represents the number of elements in the array.\n",
        "\n",
        "Second line contains N space separated integers, which are members of the array.\n",
        "\n",
        "Third line contains an integer X, which is the target value.\n",
        "\n",
        "Output format\n",
        "Print \"Present\" if there is such a pair present in the array otherwise print \"Not Present\".\n",
        "\"\"\"\n",
        "\n"
      ]
    }
  ]
}