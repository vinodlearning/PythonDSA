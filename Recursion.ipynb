{
 "cells": [
  {
   "cell_type": "code",
   "execution_count": null,
   "metadata": {},
   "outputs": [],
   "source": [
    "## remove the characters\n",
    "def remove_characters(s1,ch):\n",
    "    if(len(s1)==0 or s1==''):\n",
    "        return s1\n",
    "   \n",
    "    smallAnswer=remove_characters(s1[1:],ch)    \n",
    "    if(s1[0]==ch):\n",
    "        return smallAnswer\n",
    "    else:\n",
    "        return s1[0]+smallAnswer\n",
    "    \n",
    "  \n",
    "s1=\"abcz1z\"\n",
    "ans=remove_characters(s1,'z')\n",
    "print(ans)"
   ]
  },
  {
   "cell_type": "code",
   "execution_count": 11,
   "metadata": {},
   "outputs": [
    {
     "name": "stdout",
     "output_type": "stream",
     "text": [
      "True\n"
     ]
    }
   ],
   "source": [
    "## palindrom or not\n",
    "\n",
    "def ispalindrom(str):\n",
    "    if len(str)==0 or len(str)==1 or str=='':\n",
    "        return True\n",
    "    else:\n",
    "        if str[0]==str[-1]:\n",
    "            return ispalindrom(str[1:-1])\n",
    "        else:\n",
    "            return False\n",
    "\n",
    "   \n",
    "\n",
    "print(ispalindrom(\"madam\"))\n"
   ]
  }
 ],
 "metadata": {
  "kernelspec": {
   "display_name": "Python 3",
   "language": "python",
   "name": "python3"
  },
  "language_info": {
   "codemirror_mode": {
    "name": "ipython",
    "version": 3
   },
   "file_extension": ".py",
   "mimetype": "text/x-python",
   "name": "python",
   "nbconvert_exporter": "python",
   "pygments_lexer": "ipython3",
   "version": "3.13.0"
  }
 },
 "nbformat": 4,
 "nbformat_minor": 2
}
