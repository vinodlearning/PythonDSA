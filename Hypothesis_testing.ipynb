{
 "cells": [
  {
   "cell_type": "code",
   "execution_count": 2,
   "id": "eafcabc3",
   "metadata": {},
   "outputs": [],
   "source": [
    "import pandas as pd\n",
    "import numpy as np\n",
    "from scipy import stats\n",
    "\n",
    "import matplotlib.pyplot as plt\n",
    "import seaborn as sns"
   ]
  },
  {
   "cell_type": "code",
   "execution_count": 5,
   "id": "6c4118af",
   "metadata": {},
   "outputs": [
    {
     "data": {
      "application/vnd.microsoft.datawrangler.viewer.v0+json": {
       "columns": [
        {
         "name": "index",
         "rawType": "int64",
         "type": "integer"
        },
        {
         "name": "user_id",
         "rawType": "int64",
         "type": "integer"
        },
        {
         "name": "timestamp",
         "rawType": "object",
         "type": "string"
        },
        {
         "name": "group",
         "rawType": "object",
         "type": "string"
        },
        {
         "name": "landing_page",
         "rawType": "object",
         "type": "string"
        },
        {
         "name": "converted",
         "rawType": "int64",
         "type": "integer"
        }
       ],
       "conversionMethod": "pd.DataFrame",
       "ref": "78d03c66-4a02-47f4-9617-8d81492754e4",
       "rows": [
        [
         "0",
         "851104",
         "11:48.6",
         "control",
         "old_page",
         "0"
        ],
        [
         "1",
         "804228",
         "01:45.2",
         "control",
         "old_page",
         "0"
        ],
        [
         "2",
         "661590",
         "55:06.2",
         "treatment",
         "new_page",
         "0"
        ],
        [
         "3",
         "853541",
         "28:03.1",
         "treatment",
         "new_page",
         "0"
        ],
        [
         "4",
         "864975",
         "52:26.2",
         "control",
         "old_page",
         "1"
        ]
       ],
       "shape": {
        "columns": 5,
        "rows": 5
       }
      },
      "text/html": [
       "<div>\n",
       "<style scoped>\n",
       "    .dataframe tbody tr th:only-of-type {\n",
       "        vertical-align: middle;\n",
       "    }\n",
       "\n",
       "    .dataframe tbody tr th {\n",
       "        vertical-align: top;\n",
       "    }\n",
       "\n",
       "    .dataframe thead th {\n",
       "        text-align: right;\n",
       "    }\n",
       "</style>\n",
       "<table border=\"1\" class=\"dataframe\">\n",
       "  <thead>\n",
       "    <tr style=\"text-align: right;\">\n",
       "      <th></th>\n",
       "      <th>user_id</th>\n",
       "      <th>timestamp</th>\n",
       "      <th>group</th>\n",
       "      <th>landing_page</th>\n",
       "      <th>converted</th>\n",
       "    </tr>\n",
       "  </thead>\n",
       "  <tbody>\n",
       "    <tr>\n",
       "      <th>0</th>\n",
       "      <td>851104</td>\n",
       "      <td>11:48.6</td>\n",
       "      <td>control</td>\n",
       "      <td>old_page</td>\n",
       "      <td>0</td>\n",
       "    </tr>\n",
       "    <tr>\n",
       "      <th>1</th>\n",
       "      <td>804228</td>\n",
       "      <td>01:45.2</td>\n",
       "      <td>control</td>\n",
       "      <td>old_page</td>\n",
       "      <td>0</td>\n",
       "    </tr>\n",
       "    <tr>\n",
       "      <th>2</th>\n",
       "      <td>661590</td>\n",
       "      <td>55:06.2</td>\n",
       "      <td>treatment</td>\n",
       "      <td>new_page</td>\n",
       "      <td>0</td>\n",
       "    </tr>\n",
       "    <tr>\n",
       "      <th>3</th>\n",
       "      <td>853541</td>\n",
       "      <td>28:03.1</td>\n",
       "      <td>treatment</td>\n",
       "      <td>new_page</td>\n",
       "      <td>0</td>\n",
       "    </tr>\n",
       "    <tr>\n",
       "      <th>4</th>\n",
       "      <td>864975</td>\n",
       "      <td>52:26.2</td>\n",
       "      <td>control</td>\n",
       "      <td>old_page</td>\n",
       "      <td>1</td>\n",
       "    </tr>\n",
       "  </tbody>\n",
       "</table>\n",
       "</div>"
      ],
      "text/plain": [
       "   user_id timestamp      group landing_page  converted\n",
       "0   851104   11:48.6    control     old_page          0\n",
       "1   804228   01:45.2    control     old_page          0\n",
       "2   661590   55:06.2  treatment     new_page          0\n",
       "3   853541   28:03.1  treatment     new_page          0\n",
       "4   864975   52:26.2    control     old_page          1"
      ]
     },
     "execution_count": 5,
     "metadata": {},
     "output_type": "execute_result"
    }
   ],
   "source": [
    "df=pd.read_csv(\"ab_data.csv\")\n",
    "df.head()"
   ]
  },
  {
   "cell_type": "code",
   "execution_count": null,
   "id": "02b3715f",
   "metadata": {},
   "outputs": [
    {
     "data": {
      "application/vnd.microsoft.datawrangler.viewer.v0+json": {
       "columns": [
        {
         "name": "group",
         "rawType": "object",
         "type": "string"
        },
        {
         "name": "Failed",
         "rawType": "int64",
         "type": "integer"
        },
        {
         "name": "Success",
         "rawType": "int64",
         "type": "integer"
        },
        {
         "name": "Total Users",
         "rawType": "int64",
         "type": "integer"
        }
       ],
       "conversionMethod": "pd.DataFrame",
       "ref": "538b0c26-da46-4759-a190-7d9303e77ec1",
       "rows": [
        [
         "Control Group",
         "129479",
         "17723",
         "147202"
        ],
        [
         "Test Group",
         "129762",
         "17514",
         "147276"
        ],
        [
         "Total Users",
         "259241",
         "35237",
         "294478"
        ]
       ],
       "shape": {
        "columns": 3,
        "rows": 3
       }
      },
      "text/html": [
       "<div>\n",
       "<style scoped>\n",
       "    .dataframe tbody tr th:only-of-type {\n",
       "        vertical-align: middle;\n",
       "    }\n",
       "\n",
       "    .dataframe tbody tr th {\n",
       "        vertical-align: top;\n",
       "    }\n",
       "\n",
       "    .dataframe thead th {\n",
       "        text-align: right;\n",
       "    }\n",
       "</style>\n",
       "<table border=\"1\" class=\"dataframe\">\n",
       "  <thead>\n",
       "    <tr style=\"text-align: right;\">\n",
       "      <th>converted</th>\n",
       "      <th>Failed</th>\n",
       "      <th>Success</th>\n",
       "      <th>Total Users</th>\n",
       "    </tr>\n",
       "    <tr>\n",
       "      <th>group</th>\n",
       "      <th></th>\n",
       "      <th></th>\n",
       "      <th></th>\n",
       "    </tr>\n",
       "  </thead>\n",
       "  <tbody>\n",
       "    <tr>\n",
       "      <th>Control Group</th>\n",
       "      <td>129479</td>\n",
       "      <td>17723</td>\n",
       "      <td>147202</td>\n",
       "    </tr>\n",
       "    <tr>\n",
       "      <th>Test Group</th>\n",
       "      <td>129762</td>\n",
       "      <td>17514</td>\n",
       "      <td>147276</td>\n",
       "    </tr>\n",
       "    <tr>\n",
       "      <th>Total Users</th>\n",
       "      <td>259241</td>\n",
       "      <td>35237</td>\n",
       "      <td>294478</td>\n",
       "    </tr>\n",
       "  </tbody>\n",
       "</table>\n",
       "</div>"
      ],
      "text/plain": [
       "converted      Failed  Success  Total Users\n",
       "group                                      \n",
       "Control Group  129479    17723       147202\n",
       "Test Group     129762    17514       147276\n",
       "Total Users    259241    35237       294478"
      ]
     },
     "execution_count": 8,
     "metadata": {},
     "output_type": "execute_result"
    }
   ],
   "source": [
    "\n",
    "\n",
    "conversion_labels = {0: 'Failed', 1: 'Success'}\n",
    "group_labels = {'control': 'Control Group', 'treatment': 'Treatment Group'}\n",
    "cross_tab = pd.crosstab(\n",
    "    df['group'].map(group_labels),\n",
    "    df['converted'].map(conversion_labels),\n",
    "    margins=True,\n",
    "    margins_name='Total Users'\n",
    ")\n",
    "cross_tab"
   ]
  },
  {
   "cell_type": "code",
   "execution_count": 10,
   "id": "acf05eb1",
   "metadata": {},
   "outputs": [
    {
     "name": "stdout",
     "output_type": "stream",
     "text": [
      "Control Group Conversion Rate: 0.1204\n",
      "Treatment Group Conversion Rate: 0.1189\n"
     ]
    }
   ],
   "source": [
    "control=17723/(147202)\n",
    "treatment=17514/(147276)\n",
    "\n",
    "print(f\"Control Group Conversion Rate: {control:.4f}\")\n",
    "print(f\"Treatment Group Conversion Rate: {treatment:.4f}\")"
   ]
  },
  {
   "cell_type": "code",
   "execution_count": 12,
   "id": "38744f82",
   "metadata": {},
   "outputs": [
    {
     "data": {
      "application/vnd.microsoft.datawrangler.viewer.v0+json": {
       "columns": [
        {
         "name": "group",
         "rawType": "object",
         "type": "string"
        },
        {
         "name": "new_page",
         "rawType": "int64",
         "type": "integer"
        },
        {
         "name": "old_page",
         "rawType": "int64",
         "type": "integer"
        }
       ],
       "conversionMethod": "pd.DataFrame",
       "ref": "502250a6-faf1-4244-833f-ea03dd9b44b2",
       "rows": [
        [
         "control",
         "1928",
         "145274"
        ],
        [
         "treatment",
         "145311",
         "1965"
        ]
       ],
       "shape": {
        "columns": 2,
        "rows": 2
       }
      },
      "text/html": [
       "<div>\n",
       "<style scoped>\n",
       "    .dataframe tbody tr th:only-of-type {\n",
       "        vertical-align: middle;\n",
       "    }\n",
       "\n",
       "    .dataframe tbody tr th {\n",
       "        vertical-align: top;\n",
       "    }\n",
       "\n",
       "    .dataframe thead th {\n",
       "        text-align: right;\n",
       "    }\n",
       "</style>\n",
       "<table border=\"1\" class=\"dataframe\">\n",
       "  <thead>\n",
       "    <tr style=\"text-align: right;\">\n",
       "      <th>landing_page</th>\n",
       "      <th>new_page</th>\n",
       "      <th>old_page</th>\n",
       "    </tr>\n",
       "    <tr>\n",
       "      <th>group</th>\n",
       "      <th></th>\n",
       "      <th></th>\n",
       "    </tr>\n",
       "  </thead>\n",
       "  <tbody>\n",
       "    <tr>\n",
       "      <th>control</th>\n",
       "      <td>1928</td>\n",
       "      <td>145274</td>\n",
       "    </tr>\n",
       "    <tr>\n",
       "      <th>treatment</th>\n",
       "      <td>145311</td>\n",
       "      <td>1965</td>\n",
       "    </tr>\n",
       "  </tbody>\n",
       "</table>\n",
       "</div>"
      ],
      "text/plain": [
       "landing_page  new_page  old_page\n",
       "group                           \n",
       "control           1928    145274\n",
       "treatment       145311      1965"
      ]
     },
     "execution_count": 12,
     "metadata": {},
     "output_type": "execute_result"
    }
   ],
   "source": [
    "pd.crosstab(df['group'],df['landing_page'])"
   ]
  },
  {
   "cell_type": "code",
   "execution_count": 13,
   "id": "c181ff5c",
   "metadata": {},
   "outputs": [
    {
     "data": {
      "text/plain": [
       "user_id\n",
       "635984    2\n",
       "905609    2\n",
       "895459    2\n",
       "770459    2\n",
       "692897    2\n",
       "742690    2\n",
       "657619    2\n",
       "866294    2\n",
       "676899    2\n",
       "848305    2\n",
       "Name: count, dtype: int64"
      ]
     },
     "execution_count": 13,
     "metadata": {},
     "output_type": "execute_result"
    }
   ],
   "source": [
    "sessions_counts=df[\"user_id\"].value_counts(ascending=False)\n",
    "sessions_counts.head(10)"
   ]
  },
  {
   "cell_type": "code",
   "execution_count": 14,
   "id": "fb1b5984",
   "metadata": {},
   "outputs": [],
   "source": [
    "muti_users=sessions_counts[sessions_counts>1].index"
   ]
  },
  {
   "cell_type": "code",
   "execution_count": 15,
   "id": "29f806d1",
   "metadata": {},
   "outputs": [
    {
     "name": "stdout",
     "output_type": "stream",
     "text": [
      "Number of users with multiple sessions: 3894\n"
     ]
    }
   ],
   "source": [
    "print(f\"Number of users with multiple sessions: {len(muti_users)}\")"
   ]
  },
  {
   "cell_type": "code",
   "execution_count": 19,
   "id": "d52c4a2b",
   "metadata": {},
   "outputs": [
    {
     "name": "stdout",
     "output_type": "stream",
     "text": [
      "Collecting statsmodels\n",
      "  Downloading statsmodels-0.14.4-cp313-cp313-win_amd64.whl.metadata (9.5 kB)\n",
      "Requirement already satisfied: numpy<3,>=1.22.3 in c:\\users\\vinod\\appdata\\local\\programs\\python\\python313\\lib\\site-packages (from statsmodels) (2.2.1)\n",
      "Requirement already satisfied: scipy!=1.9.2,>=1.8 in c:\\users\\vinod\\appdata\\local\\programs\\python\\python313\\lib\\site-packages (from statsmodels) (1.15.2)\n",
      "Requirement already satisfied: pandas!=2.1.0,>=1.4 in c:\\users\\vinod\\appdata\\local\\programs\\python\\python313\\lib\\site-packages (from statsmodels) (2.2.3)\n",
      "Collecting patsy>=0.5.6 (from statsmodels)\n",
      "  Downloading patsy-1.0.1-py2.py3-none-any.whl.metadata (3.3 kB)\n",
      "Requirement already satisfied: packaging>=21.3 in c:\\users\\vinod\\appdata\\roaming\\python\\python313\\site-packages (from statsmodels) (24.2)\n",
      "Requirement already satisfied: python-dateutil>=2.8.2 in c:\\users\\vinod\\appdata\\roaming\\python\\python313\\site-packages (from pandas!=2.1.0,>=1.4->statsmodels) (2.9.0.post0)\n",
      "Requirement already satisfied: pytz>=2020.1 in c:\\users\\vinod\\appdata\\local\\programs\\python\\python313\\lib\\site-packages (from pandas!=2.1.0,>=1.4->statsmodels) (2024.2)\n",
      "Requirement already satisfied: tzdata>=2022.7 in c:\\users\\vinod\\appdata\\local\\programs\\python\\python313\\lib\\site-packages (from pandas!=2.1.0,>=1.4->statsmodels) (2024.2)\n",
      "Requirement already satisfied: six>=1.5 in c:\\users\\vinod\\appdata\\roaming\\python\\python313\\site-packages (from python-dateutil>=2.8.2->pandas!=2.1.0,>=1.4->statsmodels) (1.16.0)\n",
      "Downloading statsmodels-0.14.4-cp313-cp313-win_amd64.whl (9.8 MB)\n",
      "   ---------------------------------------- 0.0/9.8 MB ? eta -:--:--\n",
      "   -- ------------------------------------- 0.5/9.8 MB 3.8 MB/s eta 0:00:03\n",
      "   ----- ---------------------------------- 1.3/9.8 MB 4.0 MB/s eta 0:00:03\n",
      "   ------- -------------------------------- 1.8/9.8 MB 3.5 MB/s eta 0:00:03\n",
      "   ----------- ---------------------------- 2.9/9.8 MB 4.0 MB/s eta 0:00:02\n",
      "   ------------------ --------------------- 4.5/9.8 MB 4.7 MB/s eta 0:00:02\n",
      "   ------------------------- -------------- 6.3/9.8 MB 5.4 MB/s eta 0:00:01\n",
      "   --------------------------------- ------ 8.1/9.8 MB 6.1 MB/s eta 0:00:01\n",
      "   ---------------------------------------- 9.8/9.8 MB 6.5 MB/s eta 0:00:00\n",
      "Downloading patsy-1.0.1-py2.py3-none-any.whl (232 kB)\n",
      "Installing collected packages: patsy, statsmodels\n",
      "Successfully installed patsy-1.0.1 statsmodels-0.14.4\n"
     ]
    },
    {
     "name": "stderr",
     "output_type": "stream",
     "text": [
      "\n",
      "[notice] A new release of pip is available: 24.3.1 -> 25.0.1\n",
      "[notice] To update, run: python.exe -m pip install --upgrade pip\n"
     ]
    }
   ],
   "source": [
    "!pip install statsmodels\n"
   ]
  },
  {
   "cell_type": "code",
   "execution_count": 23,
   "id": "a56acdbf",
   "metadata": {},
   "outputs": [
    {
     "name": "stdout",
     "output_type": "stream",
     "text": [
      "Power : 0.774\n"
     ]
    }
   ],
   "source": [
    "##power of test\n",
    "from statsmodels.stats.power import TTestIndPower\n",
    "power = TTestIndPower()\n",
    "n_test=power.solve_power(nobs1=24,effect_size=0.8, alpha=0.05, power=None, alternative='two-sided')\n",
    "\n",
    "print(\"Power : {:.3f}\".format(n_test))\n"
   ]
  },
  {
   "cell_type": "code",
   "execution_count": 24,
   "id": "a6e86fd2",
   "metadata": {},
   "outputs": [],
   "source": [
    "data = pd.DataFrame({\n",
    "    'Gender': ['Male', 'Female', 'Male', 'Female', ...],\n",
    "    'Preference': ['Tea', 'Coffee', 'Coffee', 'Tea', ...]\n",
    "})"
   ]
  },
  {
   "cell_type": "code",
   "execution_count": 25,
   "id": "21cdb34a",
   "metadata": {},
   "outputs": [
    {
     "data": {
      "application/vnd.microsoft.datawrangler.viewer.v0+json": {
       "columns": [
        {
         "name": "index",
         "rawType": "int64",
         "type": "integer"
        },
        {
         "name": "Gender",
         "rawType": "object",
         "type": "unknown"
        },
        {
         "name": "Preference",
         "rawType": "object",
         "type": "unknown"
        }
       ],
       "conversionMethod": "pd.DataFrame",
       "ref": "0262b2dd-f4f3-43f6-9b8f-2b424d86c49b",
       "rows": [
        [
         "0",
         "Male",
         "Tea"
        ],
        [
         "1",
         "Female",
         "Coffee"
        ],
        [
         "2",
         "Male",
         "Coffee"
        ],
        [
         "3",
         "Female",
         "Tea"
        ],
        [
         "4",
         "Ellipsis",
         "Ellipsis"
        ]
       ],
       "shape": {
        "columns": 2,
        "rows": 5
       }
      },
      "text/html": [
       "<div>\n",
       "<style scoped>\n",
       "    .dataframe tbody tr th:only-of-type {\n",
       "        vertical-align: middle;\n",
       "    }\n",
       "\n",
       "    .dataframe tbody tr th {\n",
       "        vertical-align: top;\n",
       "    }\n",
       "\n",
       "    .dataframe thead th {\n",
       "        text-align: right;\n",
       "    }\n",
       "</style>\n",
       "<table border=\"1\" class=\"dataframe\">\n",
       "  <thead>\n",
       "    <tr style=\"text-align: right;\">\n",
       "      <th></th>\n",
       "      <th>Gender</th>\n",
       "      <th>Preference</th>\n",
       "    </tr>\n",
       "  </thead>\n",
       "  <tbody>\n",
       "    <tr>\n",
       "      <th>0</th>\n",
       "      <td>Male</td>\n",
       "      <td>Tea</td>\n",
       "    </tr>\n",
       "    <tr>\n",
       "      <th>1</th>\n",
       "      <td>Female</td>\n",
       "      <td>Coffee</td>\n",
       "    </tr>\n",
       "    <tr>\n",
       "      <th>2</th>\n",
       "      <td>Male</td>\n",
       "      <td>Coffee</td>\n",
       "    </tr>\n",
       "    <tr>\n",
       "      <th>3</th>\n",
       "      <td>Female</td>\n",
       "      <td>Tea</td>\n",
       "    </tr>\n",
       "    <tr>\n",
       "      <th>4</th>\n",
       "      <td>Ellipsis</td>\n",
       "      <td>Ellipsis</td>\n",
       "    </tr>\n",
       "  </tbody>\n",
       "</table>\n",
       "</div>"
      ],
      "text/plain": [
       "     Gender Preference\n",
       "0      Male        Tea\n",
       "1    Female     Coffee\n",
       "2      Male     Coffee\n",
       "3    Female        Tea\n",
       "4  Ellipsis   Ellipsis"
      ]
     },
     "execution_count": 25,
     "metadata": {},
     "output_type": "execute_result"
    }
   ],
   "source": [
    "data"
   ]
  },
  {
   "cell_type": "code",
   "execution_count": 30,
   "id": "ab3afc61",
   "metadata": {},
   "outputs": [],
   "source": [
    "ct=pd.crosstab(data[\"Gender\"],data[\"Preference\"])"
   ]
  },
  {
   "cell_type": "code",
   "execution_count": 28,
   "id": "db948329",
   "metadata": {},
   "outputs": [],
   "source": [
    "from scipy.stats import chi2_contingency\n"
   ]
  },
  {
   "cell_type": "code",
   "execution_count": 32,
   "id": "a97612b7",
   "metadata": {},
   "outputs": [
    {
     "name": "stdout",
     "output_type": "stream",
     "text": [
      "P-value: 0.2872974951836458\n",
      "dof-value: 4\n",
      "expected-value: [[0.2 0.4 0.4]\n",
      " [0.4 0.8 0.8]\n",
      " [0.4 0.8 0.8]]\n"
     ]
    }
   ],
   "source": [
    "chi2, p, dof, expected = chi2_contingency(ct)\n",
    "\n",
    "print(f\"P-value: {p}\")\n",
    "\n",
    "print(f\"dof-value: {dof}\")\n",
    "\n",
    "print(f\"expected-value: {expected}\")"
   ]
  }
 ],
 "metadata": {
  "kernelspec": {
   "display_name": "Python 3",
   "language": "python",
   "name": "python3"
  },
  "language_info": {
   "codemirror_mode": {
    "name": "ipython",
    "version": 3
   },
   "file_extension": ".py",
   "mimetype": "text/x-python",
   "name": "python",
   "nbconvert_exporter": "python",
   "pygments_lexer": "ipython3",
   "version": "3.13.0"
  }
 },
 "nbformat": 4,
 "nbformat_minor": 5
}
