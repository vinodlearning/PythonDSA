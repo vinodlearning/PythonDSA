{
  "cells": [
    {
      "cell_type": "code",
      "execution_count": null,
      "metadata": {
        "id": "5Wg-_qvKmUVs",
        "outputId": "80f02276-f52a-40ac-b071-e60d757a5ca7"
      },
      "outputs": [
        {
          "name": "stdout",
          "output_type": "stream",
          "text": [
            "Hello Wolrd\n",
            "30\n"
          ]
        }
      ],
      "source": [
        "print(\"Hello Wolrd\");\n",
        "\n",
        "x=10;y=20;z=x+y;\n",
        "print(z)"
      ]
    },
    {
      "cell_type": "markdown",
      "metadata": {
        "id": "IE1DEoR6mUVw"
      },
      "source": [
        "Semantics"
      ]
    },
    {
      "cell_type": "code",
      "execution_count": null,
      "metadata": {
        "id": "t1S7ENWPmUVy",
        "outputId": "6b7a3767-c3d7-4b3e-ffa0-df3593f02239"
      },
      "outputs": [
        {
          "name": "stdout",
          "output_type": "stream",
          "text": [
            "32\n",
            "Kris\n"
          ]
        }
      ],
      "source": [
        "##Variable Assignments\n",
        "age=32\n",
        "name=\"Kris\"\n",
        "##kernel will understand the data type in runtime\n",
        "print(age)\n",
        "print(name)\n"
      ]
    },
    {
      "cell_type": "markdown",
      "metadata": {
        "id": "bKWiGXvamUVz"
      },
      "source": [
        "Type Inference"
      ]
    },
    {
      "cell_type": "code",
      "execution_count": null,
      "metadata": {
        "id": "HLDbr_xgmUV1",
        "outputId": "4d460568-6c79-4a25-d898-6b4a00e894e5"
      },
      "outputs": [
        {
          "name": "stdout",
          "output_type": "stream",
          "text": [
            "<class 'int'>\n"
          ]
        }
      ],
      "source": [
        "type(age)\n",
        "##age=\"vinod\"\n",
        "print(type(age))\n",
        "if(age>32):\n",
        "    print(age)"
      ]
    },
    {
      "cell_type": "code",
      "execution_count": null,
      "metadata": {
        "id": "CBpI9eEWmUV2",
        "outputId": "c4745719-0a39-47e1-c187-784f04e86bc2"
      },
      "outputs": [
        {
          "name": "stdout",
          "output_type": "stream",
          "text": [
            "Correct Indendation-->\n",
            "if print\n",
            "gg\n"
          ]
        }
      ],
      "source": [
        "## Code examples of Indentation\n",
        "if True:\n",
        "    print(\"Correct Indendation-->\");\n",
        "    if False:\n",
        "        print(\"This is print\")\n",
        "    print(\"if print\")\n",
        "print(\"gg\")"
      ]
    },
    {
      "cell_type": "code",
      "execution_count": null,
      "metadata": {
        "id": "AKQsjkkomUV4",
        "outputId": "769a7e0c-3e9b-4ace-d87e-e123085a6ae0"
      },
      "outputs": [
        {
          "name": "stdout",
          "output_type": "stream",
          "text": [
            "age : 32\n",
            "Heaight : 6.1\n",
            "name : Krish\n"
          ]
        }
      ],
      "source": [
        "## Declare and assigning variables\n",
        "age=32\n",
        "height=6.1\n",
        "name=\"Krish\"\n",
        "is_student=True\n",
        "\n",
        "## Printing the variables.\n",
        "\n",
        "print(\"age :\",age)\n",
        "print(\"Heaight :\",height)\n",
        "print(\"name :\",name)\n"
      ]
    },
    {
      "cell_type": "code",
      "execution_count": null,
      "metadata": {
        "id": "uVg2gx6KmUV5"
      },
      "outputs": [],
      "source": [
        "## Naming Convestions\n",
        "## Variables--> Should be descriptive, they must start with letter or underscore and letters and numbers\n",
        "## variable names of case sensitives\n",
        "first_name=\"Krishn\"\n",
        "_lastName=\"Dev\"\n",
        "\n"
      ]
    },
    {
      "cell_type": "code",
      "execution_count": null,
      "metadata": {
        "id": "2AFsR6m5mUV6",
        "outputId": "333bb27d-6d8f-4c14-d65f-7b8187684577"
      },
      "outputs": [
        {
          "name": "stdout",
          "output_type": "stream",
          "text": [
            "<class 'float'>\n"
          ]
        }
      ],
      "source": [
        "## Understanding of Variable types\n",
        "##Python is dynamically types, type if varibale is determined at runtime.\n",
        "\n",
        "age=25\n",
        "height=11.2\n",
        "name=\"krishn\"\n",
        "is_student=True\n",
        "print(type(height))"
      ]
    },
    {
      "cell_type": "code",
      "execution_count": null,
      "metadata": {
        "id": "L2ajRDBYmUV8",
        "outputId": "820e5c7e-248c-4e66-f3e6-176a690b4583"
      },
      "outputs": [
        {
          "data": {
            "text/plain": [
              "bool"
            ]
          },
          "execution_count": 14,
          "metadata": {},
          "output_type": "execute_result"
        }
      ],
      "source": [
        "##Type checking and conversions\n",
        "type(height)## Float\n",
        "type(str(height))# str\n",
        "age='23'\n",
        "type(age)\n",
        "type(int(age))\n",
        "type(is_student)\n"
      ]
    },
    {
      "cell_type": "code",
      "execution_count": null,
      "metadata": {
        "id": "YhlPPZE5mUV9",
        "outputId": "65c15528-538f-47c7-a3be-22f1db601acb"
      },
      "outputs": [
        {
          "name": "stdout",
          "output_type": "stream",
          "text": [
            "10 <class 'int'>\n",
            "vinod <class 'str'>\n",
            "12.3 <class 'float'>\n"
          ]
        },
        {
          "ename": "ValueError",
          "evalue": "invalid literal for int() with base 10: ''",
          "output_type": "error",
          "traceback": [
            "\u001b[0;31m---------------------------------------------------------------------------\u001b[0m",
            "\u001b[0;31mValueError\u001b[0m                                Traceback (most recent call last)",
            "Cell \u001b[0;32mIn[15], line 13\u001b[0m\n\u001b[1;32m     11\u001b[0m \u001b[38;5;66;03m##Input\u001b[39;00m\n\u001b[1;32m     12\u001b[0m age\u001b[38;5;241m=\u001b[39m\u001b[38;5;28minput\u001b[39m(\u001b[38;5;124m\"\u001b[39m\u001b[38;5;124mwhat is your age-->\u001b[39m\u001b[38;5;124m\"\u001b[39m)\n\u001b[0;32m---> 13\u001b[0m \u001b[38;5;28mprint\u001b[39m(\u001b[38;5;241m2024\u001b[39m\u001b[38;5;241m-\u001b[39m\u001b[38;5;28;43mint\u001b[39;49m\u001b[43m(\u001b[49m\u001b[43mage\u001b[49m\u001b[43m)\u001b[49m)\u001b[38;5;66;03m## usually the input comes as str format\u001b[39;00m\n",
            "\u001b[0;31mValueError\u001b[0m: invalid literal for int() with base 10: ''"
          ]
        }
      ],
      "source": [
        "##Dynmic typing\n",
        "##python allows the type of a variable as the program executes\n",
        "\n",
        "var=10\n",
        "print(var,type(var))\n",
        "var=\"vinod\"\n",
        "print(var,type(var))\n",
        "var=12.3\n",
        "print(var,type(var))\n",
        "\n",
        "##Input\n",
        "age=input(\"what is your age-->\")\n",
        "print(2024-int(age))## usually the input comes as str format"
      ]
    },
    {
      "cell_type": "code",
      "execution_count": null,
      "metadata": {
        "id": "eYOqQTVHmUV-",
        "outputId": "fe60cc1b-8068-453c-ada3-0ffb933e7e24"
      },
      "outputs": [
        {
          "name": "stdout",
          "output_type": "stream",
          "text": [
            "Sum--> 90.0\n",
            "Difference--> 60.0\n",
            "Product--> 1125.0\n",
            "Quotient--> 5.0\n"
          ]
        }
      ],
      "source": [
        "## Simple calculator\n",
        "num1=float(input(\"Enter first numebr: \"))\n",
        "num2=float(input(\"Enter second numebr: \"))\n",
        "sum=num1+num2\n",
        "difference=num1-num2\n",
        "product=num1*num2;\n",
        "quotient=num1/num2;\n",
        "print(\"Sum-->\",sum)\n",
        "print(\"Difference-->\",difference)\n",
        "print(\"Product-->\",product)\n",
        "print(\"Quotient-->\",quotient)\n"
      ]
    },
    {
      "cell_type": "code",
      "execution_count": null,
      "metadata": {
        "id": "refuUrjEmUV-",
        "outputId": "171a28b8-ab67-4bd7-a5b9-f4a133a1d08d"
      },
      "outputs": [
        {
          "name": "stdout",
          "output_type": "stream",
          "text": [
            "HELLO \n"
          ]
        }
      ],
      "source": [
        "## Data Types==\n",
        "##Intergersn Examples\n",
        "age=25\n",
        "type(age)\n",
        "bool()\n",
        "\n",
        "\n",
        "## Common errors\n",
        "result=\"Hello \"\n",
        "print(result.upper())"
      ]
    },
    {
      "cell_type": "code",
      "execution_count": null,
      "metadata": {
        "id": "Zu2b7jz4mUV_",
        "outputId": "1bd90d94-2519-4a0c-f70d-555d5de8a14c"
      },
      "outputs": [
        {
          "name": "stdout",
          "output_type": "stream",
          "text": [
            "15\n",
            "5\n",
            "50\n",
            "2.0\n",
            "2\n",
            "0\n",
            "100000\n"
          ]
        }
      ],
      "source": [
        "## Operators\n",
        "\n",
        "a=10\n",
        "b=5\n",
        "\n",
        "\n",
        "add_result=a+b\n",
        "sub_result=a-b\n",
        "mult_result=a*b\n",
        "div_result=a/b ## Division Operation\n",
        "floor_div_result=a//b##Floor division\n",
        "modulus_result=a%b ## Modulus operation\n",
        "exponent_result=a**b## Exponentiation\n",
        "\n",
        "\n",
        "print(add_result);\n",
        "print(sub_result);\n",
        "print(mult_result);\n",
        "print(div_result);\n",
        "print(floor_div_result);\n",
        "print(modulus_result);\n",
        "print(exponent_result);\n",
        "\n"
      ]
    },
    {
      "cell_type": "code",
      "execution_count": null,
      "metadata": {
        "id": "9GBLFvpKmUV_",
        "outputId": "72a9c050-2e14-4e77-d4b5-f552ec91e6bd"
      },
      "outputs": [
        {
          "data": {
            "text/plain": [
              "True"
            ]
          },
          "execution_count": 5,
          "metadata": {},
          "output_type": "execute_result"
        }
      ],
      "source": []
    },
    {
      "cell_type": "code",
      "execution_count": null,
      "metadata": {
        "id": "FDmFCnvAmUWA",
        "outputId": "225ae09c-45f0-4b92-9d15-fbb0b3b54af0"
      },
      "outputs": [
        {
          "name": "stdout",
          "output_type": "stream",
          "text": [
            "True\n"
          ]
        }
      ],
      "source": [
        "## Comparison Operator\n",
        "\n",
        "a=10\n",
        "b=10\n",
        "\n",
        "a==b\n",
        "\n",
        "str1=\"Krish\"\n",
        "str2=\"KriSh\"\n",
        "\n",
        "X=False\n",
        "not X\n",
        "print(not X)\n"
      ]
    },
    {
      "cell_type": "code",
      "execution_count": null,
      "metadata": {
        "id": "i_LqBEO6mUWA",
        "outputId": "4af3e3c9-a942-4f85-f1a7-99db9683566d"
      },
      "outputs": [
        {
          "name": "stdout",
          "output_type": "stream",
          "text": [
            "allowed-->\n",
            "you are a minor\n",
            "you are an adult\n",
            "the number is negitive\n"
          ]
        }
      ],
      "source": [
        "##If statement\n",
        "\n",
        "age=20\n",
        "\n",
        "if age>=20:\n",
        "    print(\"allowed-->\")\n",
        "## Else\n",
        "\n",
        "\n",
        "age =16\n",
        "\n",
        "if age>=18:\n",
        "    print(\"ypu are elgible for vote\")\n",
        "else:\n",
        "    print(\"you are a minor\")\n",
        "\n",
        "\n",
        "\n",
        "##elif ==> else if allows to check mutliple conditions\n",
        "\n",
        "age=int(input(\"enter your age\"))\n",
        "if age<13:\n",
        "    print(\"you are a child-->\")\n",
        "elif age<18:\n",
        "    print(\"you are a tenager -->\")\n",
        "else:\n",
        "    print(\"you are an adult\")\n",
        "\n",
        "\n",
        "## Nested conditional statments\n",
        "## You can place one or more elif or if statmenbts in if or elif or else statements\n",
        "\n",
        "## number even or odd or negitive\n",
        "\n",
        "num=int(input(\"enter the number\"))\n",
        "\n",
        "if num>=0:\n",
        "    print(\"The numebr is positive \")\n",
        "    if num%2==0:\n",
        "        print(\"The number is even\")\n",
        "    else:\n",
        "        print(\"The number is Odd number\")\n",
        "else:\n",
        "    print(\"the number is negitive\")\n",
        "\n",
        "\n"
      ]
    },
    {
      "cell_type": "code",
      "execution_count": null,
      "metadata": {
        "id": "vFhLQ1cPmUWB",
        "outputId": "c99da124-ff85-4f4b-8b90-35dd8c22bfd7"
      },
      "outputs": [
        {
          "name": "stdout",
          "output_type": "stream",
          "text": [
            "It's not an  leap year\n"
          ]
        }
      ],
      "source": [
        "## Practical Examples\n",
        "## determine , if a year is leap or not using nesteed\n",
        "\n",
        "## logic if a year divisable by 400 and should not be divisaible by 100 and divisible by 4then leap year\n",
        "\n",
        "input_year=int(input(\"please enter the  year\"))\n",
        "\n",
        "if input_year%400==0:\n",
        "    print(\"It's a leap year\")\n",
        "elif input_year%4==0 and input_year%100!=0:\n",
        "    print(\"It's a leap year\")\n",
        "else:\n",
        "    print(\"It's not an  leap year\")\n"
      ]
    },
    {
      "cell_type": "code",
      "execution_count": null,
      "metadata": {
        "id": "kOcsY5sumUWC",
        "outputId": "2b4d3fd9-698c-4892-a67c-cdac59b689f0"
      },
      "outputs": [
        {
          "name": "stdout",
          "output_type": "stream",
          "text": [
            "5.0\n"
          ]
        }
      ],
      "source": [
        "##SImple Calculator\n",
        "\n",
        "num1=int(input(\"Please enter the first number\"))\n",
        "num2=int(input(\"enter the second number\"))\n",
        "operation=str(input(\"Please select the operation + , -, *, / or %\"))\n",
        "\n",
        "if operation=='+':\n",
        "    print(num1+num2)\n",
        "elif operation=='-':\n",
        "    print(num1-num2)\n",
        "elif operation=='*':\n",
        "    print(num1*num2)\n",
        "elif operation=='/':\n",
        "    print(num1/num2)\n",
        "elif operation=='%':\n",
        "    print(num1%num2)\n",
        "else:\n",
        "    print(\"Please select a valid operator\")"
      ]
    },
    {
      "cell_type": "code",
      "execution_count": null,
      "metadata": {
        "id": "zcC-yZkamUWD",
        "outputId": "40d97c5d-69b2-47ff-bfeb-61ad01c2ebbc"
      },
      "outputs": [
        {
          "name": "stdout",
          "output_type": "stream",
          "text": [
            "The count values--> 0\n",
            "The count values--> 1\n",
            "The count values--> 2\n",
            "The count values--> 3\n",
            "The count values--> 4\n",
            "The count values--> 5\n"
          ]
        }
      ],
      "source": [
        "\n",
        "##While Loop\n",
        "\n",
        "count=0;\n",
        "while count<=5:\n",
        "    print(\"The count values-->\",count)\n",
        "    count+=1;"
      ]
    },
    {
      "cell_type": "code",
      "execution_count": null,
      "metadata": {
        "id": "_95PaOt-mUWE",
        "outputId": "27f6abf5-37f4-47cf-9cc9-6532df63a20a"
      },
      "outputs": [
        {
          "name": "stdout",
          "output_type": "stream",
          "text": [
            "0\n",
            "1\n",
            "2\n",
            "3\n",
            "4\n",
            "====================\n",
            "1\n",
            "3\n",
            "5\n",
            "7\n",
            "9\n",
            "--------------PASS-----------\n",
            "0\n",
            "1\n",
            "2\n",
            "3\n",
            "4\n",
            "5\n",
            "6\n",
            "7\n",
            "8\n",
            "9\n",
            "10\n"
          ]
        }
      ],
      "source": [
        "##Loop Control Statements\n",
        "\n",
        "##Break-> The break statement exits the loop permaturely.\n",
        "\n",
        "for i in range(10):\n",
        "    if i==5:\n",
        "        break\n",
        "    print(i)\n",
        "\n",
        "print(\"====================\")\n",
        "\n",
        "## Continue\n",
        "## The continues stattements skips the currecnt iteration and continues with next .\n",
        "for i in range(10):\n",
        "    if i%2==0:\n",
        "        continue\n",
        "    print(i)\n",
        "\n",
        "\n",
        "print(\"--------------PASS-----------\")\n",
        "##PAss\n",
        "## Pass statement is a null operation, it does nothing\n",
        "sum=0\n",
        "while sum<=10:\n",
        "    if(sum%2==0):\n",
        "        pass\n",
        "    print(sum)\n",
        "    sum+=1"
      ]
    },
    {
      "cell_type": "code",
      "execution_count": null,
      "metadata": {
        "id": "aNMXCDFgmUWF",
        "outputId": "e3750aab-b279-4855-f373-553f2bd84976"
      },
      "outputs": [
        {
          "name": "stdout",
          "output_type": "stream",
          "text": [
            "I value is : 0 and J value is 0\n",
            "I value is : 0 and J value is 1\n",
            "I value is : 1 and J value is 0\n",
            "I value is : 1 and J value is 1\n",
            "I value is : 2 and J value is 0\n",
            "I value is : 2 and J value is 1\n"
          ]
        }
      ],
      "source": [
        "##Nested Loops\n",
        "\n",
        "for i in range(3):\n",
        "    for j in range(2):\n",
        "        print(f\"I value is : {i} and J value is {j}\")"
      ]
    },
    {
      "cell_type": "code",
      "execution_count": null,
      "metadata": {
        "id": "PZWYIrtEmUWG",
        "outputId": "b2310bdb-9a2c-4a2d-ea3e-028cfaf6e5ab"
      },
      "outputs": [
        {
          "name": "stdout",
          "output_type": "stream",
          "text": [
            "Natural numbers sum---> 55\n",
            "Natural numbers sum---> 55\n"
          ]
        }
      ],
      "source": [
        "## Exmaples -- Calculate the sum of N natural numbert usiong while and for loop\n",
        "\n",
        "N=int(input(\"please enter the number to get the sum\"))\n",
        "sum=0;\n",
        "while N>=0:\n",
        "    sum+=N\n",
        "    N-=1\n",
        "\n",
        "print(\"Natural numbers sum--->\",sum)\n",
        "\n",
        "## are else we can directly have formual N*(N+1)/2\n",
        "\n",
        "\n",
        "num=int(input(\"please enter the number to get the sum\"))\n",
        "\n",
        "sum=0\n",
        "for i in range(num+1):\n",
        "    sum+=i\n",
        "    num-=1\n",
        "\n",
        "print(\"Natural numbers sum--->\",sum)"
      ]
    },
    {
      "cell_type": "code",
      "execution_count": null,
      "metadata": {
        "id": "oBTNs2xNmUWH",
        "outputId": "4fa5ed79-3600-4c7c-df90-36aafc0e84c1",
        "colab": {
          "base_uri": "https://localhost:8080/"
        }
      },
      "outputs": [
        {
          "output_type": "stream",
          "name": "stdout",
          "text": [
            "1\n",
            "2\n",
            "Prime numbers are :  3\n",
            "Prime numbers are :  5\n",
            "Prime numbers are :  7\n",
            "Prime numbers are :  11\n",
            "Prime numbers are :  13\n",
            "Prime numbers are :  17\n",
            "Prime numbers are :  19\n",
            "Prime numbers are :  23\n",
            "Prime numbers are :  29\n",
            "Prime numbers are :  31\n",
            "Prime numbers are :  37\n",
            "Prime numbers are :  41\n",
            "Prime numbers are :  43\n",
            "Prime numbers are :  47\n",
            "Prime numbers are :  53\n",
            "Prime numbers are :  59\n",
            "Prime numbers are :  61\n",
            "Prime numbers are :  67\n",
            "Prime numbers are :  71\n",
            "Prime numbers are :  73\n",
            "Prime numbers are :  79\n",
            "Prime numbers are :  83\n",
            "Prime numbers are :  89\n",
            "Prime numbers are :  97\n"
          ]
        }
      ],
      "source": [
        "## Example Prime numbers between 1 to 100\n",
        "\n",
        "number=0\n",
        "for i in range(1,101):\n",
        "    if(i==1 or i==2):\n",
        "        print(i)\n",
        "    if i>2:\n",
        "        for j in range(2,i):\n",
        "\n",
        "            if i%j==0:\n",
        "                break\n",
        "        else:\n",
        "                print(\"Prime numbers are : \",i)"
      ]
    },
    {
      "cell_type": "code",
      "source": [],
      "metadata": {
        "id": "oLusFLjLpMyv"
      },
      "execution_count": null,
      "outputs": []
    },
    {
      "cell_type": "code",
      "source": [
        "## List\n",
        "\n",
        "lst=[]\n",
        "print(type(lst))\n",
        "\n",
        "names=[\"vinod\",\"kumar\",\"97045635\",98]\n",
        "print(names)\n",
        "print(names[1:-1])\n",
        "\n",
        "## Modift the list elements\n",
        "\n",
        "fruits=[\"banana\",\"apple\",\"cherry\",\"orange\",\"mango\"]\n",
        "##fruits=\"Test\"\n",
        "print(fruits)\n",
        "\n",
        "fruits.append(\"watremelon\")## adding at the end of the list\n",
        "fruits.insert(1,\"grapes\")## addding at the 1st index\n",
        "fruits.remove(\"watremelon\")## removing the element by name\n",
        "\n",
        "print(fruits)\n",
        "\n",
        "popep_frt=fruits.pop();##removed the last elemet and return the removed elemenmt\n",
        "\n",
        "print(popep_frt)\n",
        "print(fruits)\n",
        "\n",
        "index=fruits.index(\"cherry\")## give the index  value\n",
        "\n",
        "fruits.insert(index,\"cherry\")\n",
        "\n",
        "print(index)\n",
        "print(fruits.count(\"cherry\"))## Coun the cherry elemts\n",
        "\n",
        "fruits.sort()## sort the list asscending\n",
        "print(f\"Sorted List :--->{fruits}\")\n",
        "\n",
        "fruits.reverse()##reverse the list\n",
        "print(f\"Reversed List :--->{fruits}\")\n",
        "\n",
        "print(\"----------------------------------\\n\")\n",
        "##slicing List\n",
        "\n",
        "numbers=[1, 2 ,3 ,4 ,5, 6 ,7 ,8 ,9]\n",
        "\n",
        "print(numbers[2:5])## 2to 5 elemts\n",
        "\n",
        "print(numbers[:5])## start to 5 index (5-1 /e )\n",
        "print(numbers[5:])\n",
        "print(numbers[::2]) ## step size\n",
        "print(numbers[::-1])\n",
        "\n",
        "'''\n",
        "print(numbers[2:5])\n",
        "print(numbers[2:5])\n",
        "print(numbers[2:5])\n",
        "'''\n",
        "## iterating over the list\n",
        "for fruit in fruits:\n",
        "  print(f\"the fruit name is : {fruit}\")\n",
        "for num in numbers:\n",
        "  print(num)\n",
        "\n",
        "## iterate the list with index\n",
        "for index, number in enumerate(numbers):\n",
        "  print(f\"The index of {number} is {index}\")\n",
        "\n",
        "## List comprehension\n",
        "lst=[]\n",
        "for x in range(10):\n",
        "  lst.append(x**2)\n",
        "\n",
        "print(lst)\n",
        "\n",
        "print(\"-------------List Comprehension -------------\")\n",
        "\n",
        "lstCm=[ x**2 for x in range(10)]\n",
        "print(lstCm)\n",
        "## List comprehension\n",
        "## Basics syantax  [expresssion for item in iterable]\n",
        "##with condition [expression for item in iterable if condition]\n",
        "\n",
        "## basic list comprehension\n",
        "\n",
        "square=[num**2  for num in range(10)]\n",
        "print(f\"Suare root of the numbers : {square}\")\n",
        "\n",
        "## print even numbers 1-100\n",
        "\n",
        "even=[x for x in range(100) if x%2==0]\n",
        "\n",
        "print(f\"The even numbers numbers : {even}\")\n",
        "\n",
        "\n",
        "\n",
        "## Nested List Comprehension\n",
        "\n",
        "print(\"----------Nested list comprehension ------------\")\n",
        "\n",
        "lst1=[1,2,3,4,5,6]\n",
        "lst2=['a','b','c','d','e','f']\n",
        "\n",
        "mergelst=[[i,j] for i in lst1 for j in lst2]\n",
        "\n",
        "print(mergelst)\n",
        "\n",
        "## List comprehension with functions calls\n",
        "\n",
        "words =['hello','world', 'pythion', 'list','comprehension']\n",
        "length=[len(word) for word in words]\n",
        "print(length)\n",
        "\n",
        "## List comprehension with if and else block\n",
        "\n",
        "#doub the number if it is even or else keep same\n",
        "\n",
        "evenDoubt=[x**2 if x%2==0 else x for x in range(10)]\n",
        "\n",
        "print(f\"The even numbers numbers doiubled  : {evenDoubt}\")\n",
        "\n"
      ],
      "metadata": {
        "id": "i9GoxwpxwfG-",
        "outputId": "14fd09fe-d05c-4297-9cbe-2ff74ceffc1a",
        "colab": {
          "base_uri": "https://localhost:8080/"
        }
      },
      "execution_count": null,
      "outputs": [
        {
          "output_type": "stream",
          "name": "stdout",
          "text": [
            "<class 'list'>\n",
            "['vinod', 'kumar', '97045635', 98]\n",
            "['kumar', '97045635']\n",
            "['banana', 'apple', 'cherry', 'orange', 'mango']\n",
            "['banana', 'grapes', 'apple', 'cherry', 'orange', 'mango']\n",
            "mango\n",
            "['banana', 'grapes', 'apple', 'cherry', 'orange']\n",
            "3\n",
            "2\n",
            "Sorted List :--->['apple', 'banana', 'cherry', 'cherry', 'grapes', 'orange']\n",
            "Reversed List :--->['orange', 'grapes', 'cherry', 'cherry', 'banana', 'apple']\n",
            "----------------------------------\n",
            "\n",
            "[3, 4, 5]\n",
            "[1, 2, 3, 4, 5]\n",
            "[6, 7, 8, 9]\n",
            "[1, 3, 5, 7, 9]\n",
            "[9, 8, 7, 6, 5, 4, 3, 2, 1]\n",
            "the fruit name is : orange\n",
            "the fruit name is : grapes\n",
            "the fruit name is : cherry\n",
            "the fruit name is : cherry\n",
            "the fruit name is : banana\n",
            "the fruit name is : apple\n",
            "1\n",
            "2\n",
            "3\n",
            "4\n",
            "5\n",
            "6\n",
            "7\n",
            "8\n",
            "9\n",
            "The index of 1 is 0\n",
            "The index of 2 is 1\n",
            "The index of 3 is 2\n",
            "The index of 4 is 3\n",
            "The index of 5 is 4\n",
            "The index of 6 is 5\n",
            "The index of 7 is 6\n",
            "The index of 8 is 7\n",
            "The index of 9 is 8\n",
            "[0, 1, 4, 9, 16, 25, 36, 49, 64, 81]\n",
            "-------------List Comprehension -------------\n",
            "[0, 1, 4, 9, 16, 25, 36, 49, 64, 81]\n",
            "Suare root of the numbers : [0, 1, 4, 9, 16, 25, 36, 49, 64, 81]\n",
            "The even numbers numbers : [0, 2, 4, 6, 8, 10, 12, 14, 16, 18, 20, 22, 24, 26, 28, 30, 32, 34, 36, 38, 40, 42, 44, 46, 48, 50, 52, 54, 56, 58, 60, 62, 64, 66, 68, 70, 72, 74, 76, 78, 80, 82, 84, 86, 88, 90, 92, 94, 96, 98]\n",
            "----------Nested list comprehension ------------\n",
            "[[1, 'a'], [1, 'b'], [1, 'c'], [1, 'd'], [1, 'e'], [1, 'f'], [2, 'a'], [2, 'b'], [2, 'c'], [2, 'd'], [2, 'e'], [2, 'f'], [3, 'a'], [3, 'b'], [3, 'c'], [3, 'd'], [3, 'e'], [3, 'f'], [4, 'a'], [4, 'b'], [4, 'c'], [4, 'd'], [4, 'e'], [4, 'f'], [5, 'a'], [5, 'b'], [5, 'c'], [5, 'd'], [5, 'e'], [5, 'f'], [6, 'a'], [6, 'b'], [6, 'c'], [6, 'd'], [6, 'e'], [6, 'f']]\n",
            "[5, 5, 7, 4, 13]\n",
            "The even numbers numbers doiubled  : [0, 1, 4, 3, 16, 5, 36, 7, 64, 9]\n"
          ]
        }
      ]
    },
    {
      "cell_type": "code",
      "source": [
        "## SET\n",
        "\n",
        "## You can create aset with {}  with values\n",
        "my_set={1,2,3,4,5,6,6,5,7,8,8,9}\n",
        "##Note: if you add duplicate values then it will take but whne you iterate the value or count the size set will ignore the duplicates\n",
        "#ex: print the size\n",
        "print(len(my_set))## size: 9\n",
        "\n",
        "## create a Ste through constructior. with help of List or tupple\n",
        "lst=[1,2,3,4,5,6,6,5,7,8,8,9]\n",
        "my_set=set(lst)\n",
        "print(len(my_set))## size: 9\n",
        "print(my_set)##ignored duplicate elements\n",
        "\n",
        "## Basics Operations Add or remove\n",
        "my_emptSet=set();\n",
        "for i in range(20):\n",
        "  ##Add\n",
        "  my_emptSet.add(i)\n",
        "\n",
        "print(f\"After adding the elements {my_emptSet}\")\n",
        "##Remove\n",
        "my_emptSet.remove(17)\n",
        "print(f\"After remove the 17 element {my_emptSet}\")\n",
        "\n",
        "##trying to delete the element which is not in the Set\n",
        "\"\"\"\n",
        "KeyError                                  Traceback (most recent call last)\n",
        "<ipython-input-20-b7e1d2035dde> in <cell line: 28>()\n",
        "##my_emptSet.remove(27)\n",
        "\"\"\"\n",
        "## to avoid these kind of errors wwe use discorx methoid whihc iw;; delete the element if it exist or elsed dicord\n",
        "my_emptSet.discard(27)\n",
        "print(f\"After remove the 17 element {my_emptSet}\")\n",
        "\n",
        "##Pop method\n",
        "## remove the random element means first element from the Set\n",
        "\n",
        "po1=my_emptSet.pop()\n",
        "po2=my_emptSet.pop()\n",
        "po3=my_emptSet.pop()\n",
        "print(\"\\n\")\n",
        "print(f\"Pop 1 element {po1}\")\n",
        "print(f\"Pop 2 element {po2}\")\n",
        "print(f\"Pop 3 element {po3}\")\n",
        "\n",
        "##Clear the all the elemets\n",
        "\n",
        "my_emptSet.clear()\n",
        "\n",
        "print(len(my_emptSet))\n",
        "\n",
        "\n",
        "##Set membership set\n",
        "\n",
        "my_emptSet=set();\n",
        "my_emptSet1=set();\n",
        "for i in range(20):\n",
        "  ##Add\n",
        "  my_emptSet.add(i)\n",
        "\n",
        "##Check the element is exit or not\n",
        "\n",
        "for i in range(10,50,5):\n",
        "    ##Add\n",
        "    if(i in my_emptSet):\n",
        "      my_emptSet1.add(i)\n",
        "    else:\n",
        "        my_emptSet.add(i)\n",
        "\n",
        "print(my_emptSet)\n",
        "\n",
        "\n",
        "print(my_emptSet1)\n",
        "\n",
        "## Mathematical Operation\n",
        "\n",
        "## Union\n",
        "\n",
        "union_set=my_emptSet.union(my_emptSet1)\n",
        "\n",
        "print(f\"Union Set -->{union_set}\")\n",
        "\n",
        "##Intersection\n",
        "\n",
        "intersection_set=my_emptSet.intersection(my_emptSet1)\n",
        "\n",
        "print(f\"Intercetion Set -->{intersection_set}\")\n",
        "print(type(intersection_set))\n",
        "\"\"\"\n",
        " Note: Intersetion_update--> will keep the common elements and modify the original set\n",
        "in our example Insertion method not changing the vbalues , instead returning the comon elemnst as new set\n",
        "\"\"\"\n",
        "\n",
        "## Differennce\n",
        "\n",
        "diff_set=my_emptSet1.difference(my_emptSet)\n",
        "\n",
        "print(my_emptSet)\n",
        "\n",
        "print(my_emptSet1)\n",
        "\"\"\"\n",
        "Note:ste1.diff(set2)\n",
        "so we are subtracting elemenst from set1 and returning the set1 not common elements, if it's therte\n",
        "ex: set1= 1,2,3,4,5,6\n",
        "set2 4,5,6,7,8,9\n",
        "then set1.diff(set2)--> 1,2,3 only bcz 4,5,6 elements discordeer\n",
        "if set2.diff(set1) then result is 7,8,9 bcz 4,5,6, are common so dicord\n",
        "********* No change in original Sets *************************\n",
        "\"\"\"\n",
        "print(f\"Difference Set -->{diff_set}\")\n",
        "\n",
        "## Symetric Diffrence\n",
        "\n",
        "\"\"\"\n",
        "\n",
        "Note: Common elements removed and return the by combiningthe  reminaing elements\n",
        "ex: set1= 1,2,3,4,5,6\n",
        "set2 4,5,6,7,8,9\n",
        "then set1.diff(set2)--> 1,2,3,7,8,9 only bcz 4,5,6 elements discordeer\n",
        "Henec, Apply the intersection (remove comon elements and then make union )\n",
        "\"\"\"\n",
        "\n",
        "symmetric_set=my_emptSet1.symmetric_difference(my_emptSet)\n",
        "\n",
        "print(f\"Symetric  Set -->{symmetric_set}\")\n",
        "\n",
        "\n",
        "\n",
        "print(\"\\n\")\n",
        "print(\"## Set methods\")\n",
        "## Set methods\n",
        "set1={3,2,1}\n",
        "set2={1,2,3,4,5}\n",
        "\n",
        "## is subest\n",
        "\n",
        "print(set1.issubset(set2))## order is not  mandatory\n",
        "\n",
        "print(set1.issuperset(set2))\n",
        "\n",
        "\n"
      ],
      "metadata": {
        "id": "GHlwZGNAzOyi",
        "colab": {
          "base_uri": "https://localhost:8080/"
        },
        "outputId": "741f5bb9-c88f-4055-b5d3-1d59a5c27cd6"
      },
      "execution_count": null,
      "outputs": [
        {
          "output_type": "stream",
          "name": "stdout",
          "text": [
            "9\n",
            "9\n",
            "{1, 2, 3, 4, 5, 6, 7, 8, 9}\n",
            "After adding the elements {0, 1, 2, 3, 4, 5, 6, 7, 8, 9, 10, 11, 12, 13, 14, 15, 16, 17, 18, 19}\n",
            "After remove the 17 element {0, 1, 2, 3, 4, 5, 6, 7, 8, 9, 10, 11, 12, 13, 14, 15, 16, 18, 19}\n",
            "After remove the 17 element {0, 1, 2, 3, 4, 5, 6, 7, 8, 9, 10, 11, 12, 13, 14, 15, 16, 18, 19}\n",
            "\n",
            "\n",
            "Pop 1 element 0\n",
            "Pop 2 element 1\n",
            "Pop 3 element 2\n",
            "0\n",
            "{0, 1, 2, 3, 4, 5, 6, 7, 8, 9, 10, 11, 12, 13, 14, 15, 16, 17, 18, 19, 20, 25, 30, 35, 40, 45}\n",
            "{10, 15}\n",
            "Union Set -->{0, 1, 2, 3, 4, 5, 6, 7, 8, 9, 10, 11, 12, 13, 14, 15, 16, 17, 18, 19, 20, 25, 30, 35, 40, 45}\n",
            "Intercetion Set -->{10, 15}\n",
            "<class 'set'>\n",
            "{0, 1, 2, 3, 4, 5, 6, 7, 8, 9, 10, 11, 12, 13, 14, 15, 16, 17, 18, 19, 20, 25, 30, 35, 40, 45}\n",
            "{10, 15}\n",
            "Difference Set -->set()\n",
            "Symetric  Set -->{0, 1, 2, 3, 4, 5, 6, 7, 8, 9, 11, 12, 13, 14, 16, 17, 18, 19, 20, 25, 30, 35, 40, 45}\n",
            "\n",
            "\n",
            "## Set methods\n",
            "True\n",
            "False\n"
          ]
        }
      ]
    },
    {
      "cell_type": "markdown",
      "source": [],
      "metadata": {
        "id": "mk8zqWs2pip2"
      }
    },
    {
      "cell_type": "code",
      "source": [
        "### Counting unique words in text\n",
        "\n",
        "text= \" in thos tutorial we are discussion about sets\"\n",
        "words=text.split();\n",
        "## converst list of words into Set\n",
        "\n",
        "unique_word=set(words)\n",
        "print(f\"The unique words--->{unique_word}\")\n",
        "\n",
        "print(f\"The count of the unique words==>{len(unique_word)}\")"
      ],
      "metadata": {
        "colab": {
          "base_uri": "https://localhost:8080/"
        },
        "id": "84Z6c9KNdbSt",
        "outputId": "ac05a6f6-6066-4978-dfa6-84dca6eb3903"
      },
      "execution_count": null,
      "outputs": [
        {
          "output_type": "stream",
          "name": "stdout",
          "text": [
            "The unique words--->{'discussion', 'we', 'are', 'sets', 'thos', 'tutorial', 'in', 'about'}\n",
            "The count of the unique words==>8\n"
          ]
        }
      ]
    },
    {
      "cell_type": "code",
      "source": [
        "## Dictionaries\n",
        "\"\"\"\n",
        "Dictionaries are unordered collections of items. They store data in key-value pairs.\n",
        "keys must be unique and immutable (Eg. Strings, numbers or tupples) while values can be any type\n",
        "\n",
        "\"\"\"\n",
        "\n",
        "\n",
        "##Creating an empty disctonary\n",
        "empty_dict={}\n",
        "print(type(empty_dict))\n",
        "empty_dict=dict()\n",
        "print(type(empty_dict))\n",
        "\n",
        "student={\n",
        "    \"name\": \"Krishn\",\n",
        "    \"age\" : \"35\",\n",
        "    \"Phone \": 9875646,\n",
        "    'grade' : 3,\n",
        "    1:\"hE IS ONE\",\n",
        "    1:\"hE IS ONE1\"\n",
        "}\n",
        "\n",
        "print(student)\n",
        "\n",
        "## eRROR--> Single key is always use instead of multiple\n",
        "\n",
        "## Accessing dictonary elements\n",
        "graed=student['grade']\n",
        "print(graed)\n",
        "##Access using get method  provided by disctionary\n",
        "phone=student.get(\"Phone\",\"Not Available\")## If key is not there then next statement will print\n",
        "print(phone)\n",
        "\n",
        "## Modify the disctionary elements\n",
        "## Dictionary are mutable, so you can add , upadte or delete elements\n",
        "print(student)\n",
        "\n",
        "# adding new key\n",
        "student['Address']=\"Hyderabad\"\n",
        "print(f\"After adding new key: {student}\")\n",
        "\n",
        "## update\n",
        "\n",
        "student[1]=\"First Grade\"\n",
        "print(f\"After update the  key: {student}\")\n",
        "\n",
        "del student[1]\n",
        "print(f\"After delete the  key: {student}\")\n",
        "\n",
        "## Dictionary methods\n",
        "\n",
        "keys=student.keys()\n",
        "print(f\"The keys from Studnet Dic: {keys}\")\n",
        "\n",
        "values=student.values();\n",
        "\n",
        "print(f\"The values from Studnet Dic: {values}\")\n",
        "\n",
        "for i in keys:\n",
        "  print(f\" The is : {i} and the value is {student.get(i)}\")\n",
        "\n",
        "\n",
        "items=student.items()# get the all key-value pairs\n",
        "\n",
        "print(f\" All the items {items}\")\n",
        "\n",
        "print(\"\\n  Shallow copy section \\n\")\n",
        "\n",
        "## Shallow copy\n",
        "\n",
        "student_copy=student## COpying the dictonary\n",
        "\n",
        "print(student_copy)\n",
        "\n",
        "student[\"Section\"]=\"B\"\n",
        "\n",
        "print(student_copy)\n",
        "\n",
        "print(student)\n",
        "\n",
        "## In normal copy, if we change the original disctionary\n",
        "## then the respectuve dictionay alwo getting changed\n",
        "\n",
        "stundet_copy1=student.copy()## Wil create a separet memeory and it's not impacting on the exiting dict\n",
        "\n",
        "print(stundet_copy1)\n",
        "\n",
        "print(student)\n",
        "\n",
        "student[\"Branch\"]=\"CSE\"\n",
        "\n",
        "print(stundet_copy1)\n",
        "\n",
        "print(student)\n",
        "\n",
        "print(type(stundet_copy1))\n",
        "\n",
        "## Iterate the Dic\n",
        "\n",
        "for key,val in student.items():\n",
        "  print(f\" The Key is : {key} and the value is:  {val}\")\n",
        "\n",
        "\n",
        "\n",
        "## Nested Dictionaries\n",
        "\n",
        "students={\n",
        "    \"student1\": {\n",
        "        \"name\": \"Krishn\",\n",
        "        \"age\": 32,\n",
        "        \"place\": \"Hyd\"\n",
        "    },\n",
        "    \"student2\": {\n",
        "        \"name\": \"Peter\",\n",
        "        \"age\": 35,\n",
        "        \"place\": \"Delhi\"\n",
        "    }\n",
        "}\n",
        "\n",
        "print(\"Nested loop of Dictionary \\n\")\n",
        "\n",
        "##Iterate the nested Dic\n",
        "\n",
        "for student_id, Stud_info in students.items():\n",
        "  print(f\" The Studnet ID : {student_id}\")\n",
        "  for key, val in Stud_info.items():\n",
        "      print(f\" Key : {key} and the value is : {val}\")\n",
        "\n",
        "\n"
      ],
      "metadata": {
        "colab": {
          "base_uri": "https://localhost:8080/"
        },
        "id": "t_Q7-PdSpc6Z",
        "outputId": "733051db-031e-43ad-bd85-e1c3b089c44c"
      },
      "execution_count": 38,
      "outputs": [
        {
          "output_type": "stream",
          "name": "stdout",
          "text": [
            "<class 'dict'>\n",
            "<class 'dict'>\n",
            "{'name': 'Krishn', 'age': '35', 'Phone ': 9875646, 'grade': 3, 1: 'hE IS ONE1'}\n",
            "3\n",
            "Not Available\n",
            "{'name': 'Krishn', 'age': '35', 'Phone ': 9875646, 'grade': 3, 1: 'hE IS ONE1'}\n",
            "After adding new key: {'name': 'Krishn', 'age': '35', 'Phone ': 9875646, 'grade': 3, 1: 'hE IS ONE1', 'Address': 'Hyderabad'}\n",
            "After update the  key: {'name': 'Krishn', 'age': '35', 'Phone ': 9875646, 'grade': 3, 1: 'First Grade', 'Address': 'Hyderabad'}\n",
            "After delete the  key: {'name': 'Krishn', 'age': '35', 'Phone ': 9875646, 'grade': 3, 'Address': 'Hyderabad'}\n",
            "The keys from Studnet Dic: dict_keys(['name', 'age', 'Phone ', 'grade', 'Address'])\n",
            "The values from Studnet Dic: dict_values(['Krishn', '35', 9875646, 3, 'Hyderabad'])\n",
            " The is : name and the value is Krishn\n",
            " The is : age and the value is 35\n",
            " The is : Phone  and the value is 9875646\n",
            " The is : grade and the value is 3\n",
            " The is : Address and the value is Hyderabad\n",
            " All the items dict_items([('name', 'Krishn'), ('age', '35'), ('Phone ', 9875646), ('grade', 3), ('Address', 'Hyderabad')])\n",
            "\n",
            "  Shallow copy section \n",
            "\n",
            "{'name': 'Krishn', 'age': '35', 'Phone ': 9875646, 'grade': 3, 'Address': 'Hyderabad'}\n",
            "{'name': 'Krishn', 'age': '35', 'Phone ': 9875646, 'grade': 3, 'Address': 'Hyderabad', 'Section': 'B'}\n",
            "{'name': 'Krishn', 'age': '35', 'Phone ': 9875646, 'grade': 3, 'Address': 'Hyderabad', 'Section': 'B'}\n",
            "{'name': 'Krishn', 'age': '35', 'Phone ': 9875646, 'grade': 3, 'Address': 'Hyderabad', 'Section': 'B'}\n",
            "{'name': 'Krishn', 'age': '35', 'Phone ': 9875646, 'grade': 3, 'Address': 'Hyderabad', 'Section': 'B'}\n",
            "{'name': 'Krishn', 'age': '35', 'Phone ': 9875646, 'grade': 3, 'Address': 'Hyderabad', 'Section': 'B'}\n",
            "{'name': 'Krishn', 'age': '35', 'Phone ': 9875646, 'grade': 3, 'Address': 'Hyderabad', 'Section': 'B', 'Branch': 'CSE'}\n",
            "<class 'dict'>\n",
            " The Key is : name and the value is:  Krishn\n",
            " The Key is : age and the value is:  35\n",
            " The Key is : Phone  and the value is:  9875646\n",
            " The Key is : grade and the value is:  3\n",
            " The Key is : Address and the value is:  Hyderabad\n",
            " The Key is : Section and the value is:  B\n",
            " The Key is : Branch and the value is:  CSE\n",
            "Nested loop of Dictionary \n",
            "\n",
            " The Studnet ID : student1\n",
            " Key : name and the value is : Krishn\n",
            " Key : age and the value is : 32\n",
            " Key : place and the value is : Hyd\n",
            " The Studnet ID : student2\n",
            " Key : name and the value is : Peter\n",
            " Key : age and the value is : 35\n",
            " Key : place and the value is : Delhi\n"
          ]
        }
      ]
    },
    {
      "cell_type": "code",
      "source": [],
      "metadata": {
        "id": "rqp5A3qz3LOd"
      },
      "execution_count": null,
      "outputs": []
    }
  ],
  "metadata": {
    "kernelspec": {
      "display_name": "Python 3",
      "language": "python",
      "name": "python3"
    },
    "language_info": {
      "codemirror_mode": {
        "name": "ipython",
        "version": 3
      },
      "file_extension": ".py",
      "mimetype": "text/x-python",
      "name": "python",
      "nbconvert_exporter": "python",
      "pygments_lexer": "ipython3",
      "version": "3.12.1"
    },
    "colab": {
      "provenance": []
    }
  },
  "nbformat": 4,
  "nbformat_minor": 0
}