{
 "cells": [
  {
   "cell_type": "code",
   "execution_count": 1,
   "metadata": {
    "id": "5Wg-_qvKmUVs",
    "outputId": "80f02276-f52a-40ac-b071-e60d757a5ca7"
   },
   "outputs": [
    {
     "name": "stdout",
     "output_type": "stream",
     "text": [
      "Hello Wolrd\n",
      "30\n"
     ]
    }
   ],
   "source": [
    "print(\"Hello Wolrd\");\n",
    "\n",
    "x=10;y=20;z=x+y;\n",
    "print(z)"
   ]
  },
  {
   "cell_type": "markdown",
   "metadata": {
    "id": "IE1DEoR6mUVw"
   },
   "source": [
    "Semantics"
   ]
  },
  {
   "cell_type": "code",
   "execution_count": 2,
   "metadata": {
    "id": "t1S7ENWPmUVy",
    "outputId": "6b7a3767-c3d7-4b3e-ffa0-df3593f02239"
   },
   "outputs": [
    {
     "name": "stdout",
     "output_type": "stream",
     "text": [
      "32\n",
      "Kris\n"
     ]
    }
   ],
   "source": [
    "##Variable Assignments\n",
    "age=32\n",
    "name=\"Kris\"\n",
    "##kernel will understand the data type in runtime\n",
    "print(age)\n",
    "print(name)\n"
   ]
  },
  {
   "cell_type": "markdown",
   "metadata": {
    "id": "bKWiGXvamUVz"
   },
   "source": [
    "Type Inference"
   ]
  },
  {
   "cell_type": "code",
   "execution_count": 3,
   "metadata": {
    "id": "HLDbr_xgmUV1",
    "outputId": "4d460568-6c79-4a25-d898-6b4a00e894e5"
   },
   "outputs": [
    {
     "name": "stdout",
     "output_type": "stream",
     "text": [
      "<class 'int'>\n"
     ]
    }
   ],
   "source": [
    "type(age)\n",
    "##age=\"vinod\"\n",
    "print(type(age))\n",
    "if(age>32):\n",
    "    print(age)"
   ]
  },
  {
   "cell_type": "code",
   "execution_count": 4,
   "metadata": {
    "id": "CBpI9eEWmUV2",
    "outputId": "c4745719-0a39-47e1-c187-784f04e86bc2"
   },
   "outputs": [
    {
     "name": "stdout",
     "output_type": "stream",
     "text": [
      "Correct Indendation-->\n",
      "if print\n",
      "gg\n"
     ]
    }
   ],
   "source": [
    "## Code examples of Indentation\n",
    "if True:\n",
    "    print(\"Correct Indendation-->\");\n",
    "    if False:\n",
    "        print(\"This is print\")\n",
    "    print(\"if print\")\n",
    "print(\"gg\")"
   ]
  },
  {
   "cell_type": "code",
   "execution_count": 5,
   "metadata": {
    "id": "AKQsjkkomUV4",
    "outputId": "769a7e0c-3e9b-4ace-d87e-e123085a6ae0"
   },
   "outputs": [
    {
     "name": "stdout",
     "output_type": "stream",
     "text": [
      "age : 32\n",
      "Heaight : 6.1\n",
      "name : Krish\n"
     ]
    }
   ],
   "source": [
    "## Declare and assigning variables\n",
    "age=32\n",
    "height=6.1\n",
    "name=\"Krish\"\n",
    "is_student=True\n",
    "\n",
    "## Printing the variables.\n",
    "\n",
    "print(\"age :\",age)\n",
    "print(\"Heaight :\",height)\n",
    "print(\"name :\",name)\n"
   ]
  },
  {
   "cell_type": "code",
   "execution_count": 6,
   "metadata": {
    "id": "uVg2gx6KmUV5"
   },
   "outputs": [],
   "source": [
    "## Naming Convestions\n",
    "## Variables--> Should be descriptive, they must start with letter or underscore and letters and numbers\n",
    "## variable names of case sensitives\n",
    "first_name=\"Krishn\"\n",
    "_lastName=\"Dev\"\n",
    "\n"
   ]
  },
  {
   "cell_type": "code",
   "execution_count": 7,
   "metadata": {
    "id": "2AFsR6m5mUV6",
    "outputId": "333bb27d-6d8f-4c14-d65f-7b8187684577"
   },
   "outputs": [
    {
     "name": "stdout",
     "output_type": "stream",
     "text": [
      "<class 'float'>\n"
     ]
    }
   ],
   "source": [
    "## Understanding of Variable types\n",
    "##Python is dynamically types, type if varibale is determined at runtime.\n",
    "\n",
    "age=25\n",
    "height=11.2\n",
    "name=\"krishn\"\n",
    "is_student=True\n",
    "print(type(height))"
   ]
  },
  {
   "cell_type": "code",
   "execution_count": 8,
   "metadata": {
    "id": "L2ajRDBYmUV8",
    "outputId": "820e5c7e-248c-4e66-f3e6-176a690b4583"
   },
   "outputs": [
    {
     "data": {
      "text/plain": [
       "bool"
      ]
     },
     "execution_count": 8,
     "metadata": {},
     "output_type": "execute_result"
    }
   ],
   "source": [
    "##Type checking and conversions\n",
    "type(height)## Float\n",
    "type(str(height))# str\n",
    "age='23'\n",
    "type(age)\n",
    "type(int(age))\n",
    "type(is_student)\n"
   ]
  },
  {
   "cell_type": "code",
   "execution_count": 9,
   "metadata": {
    "id": "YhlPPZE5mUV9",
    "outputId": "65c15528-538f-47c7-a3be-22f1db601acb"
   },
   "outputs": [
    {
     "name": "stdout",
     "output_type": "stream",
     "text": [
      "10 <class 'int'>\n",
      "vinod <class 'str'>\n",
      "12.3 <class 'float'>\n",
      "1999\n"
     ]
    }
   ],
   "source": [
    "##Dynmic typing\n",
    "##python allows the type of a variable as the program executes\n",
    "\n",
    "var=10\n",
    "print(var,type(var))\n",
    "var=\"vinod\"\n",
    "print(var,type(var))\n",
    "var=12.3\n",
    "print(var,type(var))\n",
    "\n",
    "##Input\n",
    "age=input(\"what is your age-->\")\n",
    "print(2024-int(age))## usually the input comes as str format"
   ]
  },
  {
   "cell_type": "code",
   "execution_count": 10,
   "metadata": {
    "id": "eYOqQTVHmUV-",
    "outputId": "fe60cc1b-8068-453c-ada3-0ffb933e7e24"
   },
   "outputs": [
    {
     "name": "stdout",
     "output_type": "stream",
     "text": [
      "Sum--> 24.0\n",
      "Difference--> 0.0\n",
      "Product--> 144.0\n",
      "Quotient--> 1.0\n"
     ]
    }
   ],
   "source": [
    "## Simple calculator\n",
    "num1=float(input(\"Enter first numebr: \"))\n",
    "num2=float(input(\"Enter second numebr: \"))\n",
    "sum=num1+num2\n",
    "difference=num1-num2\n",
    "product=num1*num2;\n",
    "quotient=num1/num2;\n",
    "print(\"Sum-->\",sum)\n",
    "print(\"Difference-->\",difference)\n",
    "print(\"Product-->\",product)\n",
    "print(\"Quotient-->\",quotient)\n"
   ]
  },
  {
   "cell_type": "code",
   "execution_count": 11,
   "metadata": {
    "id": "refuUrjEmUV-",
    "outputId": "171a28b8-ab67-4bd7-a5b9-f4a133a1d08d"
   },
   "outputs": [
    {
     "name": "stdout",
     "output_type": "stream",
     "text": [
      "HELLO \n"
     ]
    }
   ],
   "source": [
    "## Data Types==\n",
    "##Intergersn Examples\n",
    "age=25\n",
    "type(age)\n",
    "bool()\n",
    "\n",
    "\n",
    "## Common errors\n",
    "result=\"Hello \"\n",
    "print(result.upper())"
   ]
  },
  {
   "cell_type": "code",
   "execution_count": 12,
   "metadata": {
    "id": "Zu2b7jz4mUV_",
    "outputId": "1bd90d94-2519-4a0c-f70d-555d5de8a14c"
   },
   "outputs": [
    {
     "name": "stdout",
     "output_type": "stream",
     "text": [
      "15\n",
      "5\n",
      "50\n",
      "2.0\n",
      "2\n",
      "0\n",
      "100000\n"
     ]
    }
   ],
   "source": [
    "## Operators\n",
    "\n",
    "a=10\n",
    "b=5\n",
    "\n",
    "\n",
    "add_result=a+b\n",
    "sub_result=a-b\n",
    "mult_result=a*b\n",
    "div_result=a/b ## Division Operation\n",
    "floor_div_result=a//b##Floor division\n",
    "modulus_result=a%b ## Modulus operation\n",
    "exponent_result=a**b## Exponentiation\n",
    "\n",
    "\n",
    "print(add_result);\n",
    "print(sub_result);\n",
    "print(mult_result);\n",
    "print(div_result);\n",
    "print(floor_div_result);\n",
    "print(modulus_result);\n",
    "print(exponent_result);\n",
    "\n"
   ]
  },
  {
   "cell_type": "code",
   "execution_count": null,
   "metadata": {
    "id": "9GBLFvpKmUV_",
    "outputId": "72a9c050-2e14-4e77-d4b5-f552ec91e6bd"
   },
   "outputs": [],
   "source": []
  },
  {
   "cell_type": "code",
   "execution_count": 13,
   "metadata": {
    "id": "FDmFCnvAmUWA",
    "outputId": "225ae09c-45f0-4b92-9d15-fbb0b3b54af0"
   },
   "outputs": [
    {
     "name": "stdout",
     "output_type": "stream",
     "text": [
      "True\n"
     ]
    }
   ],
   "source": [
    "## Comparison Operator\n",
    "\n",
    "a=10\n",
    "b=10\n",
    "\n",
    "a==b\n",
    "\n",
    "str1=\"Krish\"\n",
    "str2=\"KriSh\"\n",
    "\n",
    "X=False\n",
    "not X\n",
    "print(not X)\n"
   ]
  },
  {
   "cell_type": "code",
   "execution_count": 14,
   "metadata": {
    "id": "i_LqBEO6mUWA",
    "outputId": "4af3e3c9-a942-4f85-f1a7-99db9683566d"
   },
   "outputs": [
    {
     "name": "stdout",
     "output_type": "stream",
     "text": [
      "allowed-->\n",
      "you are a minor\n",
      "you are a child-->\n",
      "The numebr is positive \n",
      "The number is even\n"
     ]
    }
   ],
   "source": [
    "##If statement\n",
    "\n",
    "age=20\n",
    "\n",
    "if age>=20:\n",
    "    print(\"allowed-->\")\n",
    "## Else\n",
    "\n",
    "\n",
    "age =16\n",
    "\n",
    "if age>=18:\n",
    "    print(\"ypu are elgible for vote\")\n",
    "else:\n",
    "    print(\"you are a minor\")\n",
    "\n",
    "\n",
    "\n",
    "##elif ==> else if allows to check mutliple conditions\n",
    "\n",
    "age=int(input(\"enter your age\"))\n",
    "if age<13:\n",
    "    print(\"you are a child-->\")\n",
    "elif age<18:\n",
    "    print(\"you are a tenager -->\")\n",
    "else:\n",
    "    print(\"you are an adult\")\n",
    "\n",
    "\n",
    "## Nested conditional statments\n",
    "## You can place one or more elif or if statmenbts in if or elif or else statements\n",
    "\n",
    "## number even or odd or negitive\n",
    "\n",
    "num=int(input(\"enter the number\"))\n",
    "\n",
    "if num>=0:\n",
    "    print(\"The numebr is positive \")\n",
    "    if num%2==0:\n",
    "        print(\"The number is even\")\n",
    "    else:\n",
    "        print(\"The number is Odd number\")\n",
    "else:\n",
    "    print(\"the number is negitive\")\n",
    "\n",
    "\n"
   ]
  },
  {
   "cell_type": "code",
   "execution_count": 15,
   "metadata": {
    "id": "vFhLQ1cPmUWB",
    "outputId": "c99da124-ff85-4f4b-8b90-35dd8c22bfd7"
   },
   "outputs": [
    {
     "name": "stdout",
     "output_type": "stream",
     "text": [
      "It's a leap year\n"
     ]
    }
   ],
   "source": [
    "## Practical Examples\n",
    "## determine , if a year is leap or not using nesteed\n",
    "\n",
    "## logic if a year divisable by 400 and should not be divisaible by 100 and divisible by 4then leap year\n",
    "\n",
    "input_year=int(input(\"please enter the  year\"))\n",
    "\n",
    "if input_year%400==0:\n",
    "    print(\"It's a leap year\")\n",
    "elif input_year%4==0 and input_year%100!=0:\n",
    "    print(\"It's a leap year\")\n",
    "else:\n",
    "    print(\"It's not an  leap year\")\n"
   ]
  },
  {
   "cell_type": "code",
   "execution_count": 16,
   "metadata": {
    "id": "kOcsY5sumUWC",
    "outputId": "2b4d3fd9-698c-4892-a67c-cdac59b689f0"
   },
   "outputs": [
    {
     "name": "stdout",
     "output_type": "stream",
     "text": [
      "24\n"
     ]
    }
   ],
   "source": [
    "##SImple Calculator\n",
    "\n",
    "num1=int(input(\"Please enter the first number\"))\n",
    "num2=int(input(\"enter the second number\"))\n",
    "operation=str(input(\"Please select the operation + , -, *, / or %\"))\n",
    "\n",
    "if operation=='+':\n",
    "    print(num1+num2)\n",
    "elif operation=='-':\n",
    "    print(num1-num2)\n",
    "elif operation=='*':\n",
    "    print(num1*num2)\n",
    "elif operation=='/':\n",
    "    print(num1/num2)\n",
    "elif operation=='%':\n",
    "    print(num1%num2)\n",
    "else:\n",
    "    print(\"Please select a valid operator\")"
   ]
  },
  {
   "cell_type": "code",
   "execution_count": 17,
   "metadata": {
    "id": "zcC-yZkamUWD",
    "outputId": "40d97c5d-69b2-47ff-bfeb-61ad01c2ebbc"
   },
   "outputs": [
    {
     "name": "stdout",
     "output_type": "stream",
     "text": [
      "The count values--> 0\n",
      "The count values--> 1\n",
      "The count values--> 2\n",
      "The count values--> 3\n",
      "The count values--> 4\n",
      "The count values--> 5\n"
     ]
    }
   ],
   "source": [
    "\n",
    "##While Loop\n",
    "\n",
    "count=0;\n",
    "while count<=5:\n",
    "    print(\"The count values-->\",count)\n",
    "    count+=1;"
   ]
  },
  {
   "cell_type": "code",
   "execution_count": 18,
   "metadata": {
    "id": "_95PaOt-mUWE",
    "outputId": "27f6abf5-37f4-47cf-9cc9-6532df63a20a"
   },
   "outputs": [
    {
     "name": "stdout",
     "output_type": "stream",
     "text": [
      "0\n",
      "1\n",
      "2\n",
      "3\n",
      "4\n",
      "====================\n",
      "1\n",
      "3\n",
      "5\n",
      "7\n",
      "9\n",
      "--------------PASS-----------\n",
      "0\n",
      "1\n",
      "2\n",
      "3\n",
      "4\n",
      "5\n",
      "6\n",
      "7\n",
      "8\n",
      "9\n",
      "10\n"
     ]
    }
   ],
   "source": [
    "##Loop Control Statements\n",
    "\n",
    "##Break-> The break statement exits the loop permaturely.\n",
    "\n",
    "for i in range(10):\n",
    "    if i==5:\n",
    "        break\n",
    "    print(i)\n",
    "\n",
    "print(\"====================\")\n",
    "\n",
    "## Continue\n",
    "## The continues stattements skips the currecnt iteration and continues with next .\n",
    "for i in range(10):\n",
    "    if i%2==0:\n",
    "        continue\n",
    "    print(i)\n",
    "\n",
    "\n",
    "print(\"--------------PASS-----------\")\n",
    "##PAss\n",
    "## Pass statement is a null operation, it does nothing\n",
    "sum=0\n",
    "while sum<=10:\n",
    "    if(sum%2==0):\n",
    "        pass\n",
    "    print(sum)\n",
    "    sum+=1"
   ]
  },
  {
   "cell_type": "code",
   "execution_count": 19,
   "metadata": {
    "id": "aNMXCDFgmUWF",
    "outputId": "e3750aab-b279-4855-f373-553f2bd84976"
   },
   "outputs": [
    {
     "name": "stdout",
     "output_type": "stream",
     "text": [
      "I value is : 0 and J value is 0\n",
      "I value is : 0 and J value is 1\n",
      "I value is : 1 and J value is 0\n",
      "I value is : 1 and J value is 1\n",
      "I value is : 2 and J value is 0\n",
      "I value is : 2 and J value is 1\n"
     ]
    }
   ],
   "source": [
    "##Nested Loops\n",
    "\n",
    "for i in range(3):\n",
    "    for j in range(2):\n",
    "        print(f\"I value is : {i} and J value is {j}\")"
   ]
  },
  {
   "cell_type": "code",
   "execution_count": 20,
   "metadata": {
    "id": "PZWYIrtEmUWG",
    "outputId": "b2310bdb-9a2c-4a2d-ea3e-028cfaf6e5ab"
   },
   "outputs": [
    {
     "name": "stdout",
     "output_type": "stream",
     "text": [
      "Natural numbers sum---> 55\n",
      "Natural numbers sum---> 55\n"
     ]
    }
   ],
   "source": [
    "## Exmaples -- Calculate the sum of N natural numbert usiong while and for loop\n",
    "\n",
    "N=int(input(\"please enter the number to get the sum\"))\n",
    "sum=0;\n",
    "while N>=0:\n",
    "    sum+=N\n",
    "    N-=1\n",
    "\n",
    "print(\"Natural numbers sum--->\",sum)\n",
    "\n",
    "## are else we can directly have formual N*(N+1)/2\n",
    "\n",
    "\n",
    "num=int(input(\"please enter the number to get the sum\"))\n",
    "\n",
    "sum=0\n",
    "for i in range(num+1):\n",
    "    sum+=i\n",
    "    num-=1\n",
    "\n",
    "print(\"Natural numbers sum--->\",sum)"
   ]
  },
  {
   "cell_type": "code",
   "execution_count": 21,
   "metadata": {
    "colab": {
     "base_uri": "https://localhost:8080/"
    },
    "id": "oBTNs2xNmUWH",
    "outputId": "4fa5ed79-3600-4c7c-df90-36aafc0e84c1"
   },
   "outputs": [
    {
     "name": "stdout",
     "output_type": "stream",
     "text": [
      "1\n",
      "2\n",
      "Prime numbers are :  3\n",
      "Prime numbers are :  5\n",
      "Prime numbers are :  7\n",
      "Prime numbers are :  11\n",
      "Prime numbers are :  13\n",
      "Prime numbers are :  17\n",
      "Prime numbers are :  19\n",
      "Prime numbers are :  23\n",
      "Prime numbers are :  29\n",
      "Prime numbers are :  31\n",
      "Prime numbers are :  37\n",
      "Prime numbers are :  41\n",
      "Prime numbers are :  43\n",
      "Prime numbers are :  47\n",
      "Prime numbers are :  53\n",
      "Prime numbers are :  59\n",
      "Prime numbers are :  61\n",
      "Prime numbers are :  67\n",
      "Prime numbers are :  71\n",
      "Prime numbers are :  73\n",
      "Prime numbers are :  79\n",
      "Prime numbers are :  83\n",
      "Prime numbers are :  89\n",
      "Prime numbers are :  97\n"
     ]
    }
   ],
   "source": [
    "## Example Prime numbers between 1 to 100\n",
    "\n",
    "number=0\n",
    "for i in range(1,101):\n",
    "    if(i==1 or i==2):\n",
    "        print(i)\n",
    "    if i>2:\n",
    "        for j in range(2,i):\n",
    "\n",
    "            if i%j==0:\n",
    "                break\n",
    "        else:\n",
    "                print(\"Prime numbers are : \",i)"
   ]
  },
  {
   "cell_type": "code",
   "execution_count": null,
   "metadata": {
    "id": "oLusFLjLpMyv"
   },
   "outputs": [],
   "source": []
  },
  {
   "cell_type": "markdown",
   "metadata": {
    "id": "btyUpml_VLpJ"
   },
   "source": [
    "### **This is all about List Data structure **"
   ]
  },
  {
   "cell_type": "code",
   "execution_count": 22,
   "metadata": {
    "colab": {
     "base_uri": "https://localhost:8080/"
    },
    "id": "i9GoxwpxwfG-",
    "outputId": "14fd09fe-d05c-4297-9cbe-2ff74ceffc1a"
   },
   "outputs": [
    {
     "name": "stdout",
     "output_type": "stream",
     "text": [
      "<class 'list'>\n",
      "['vinod', 'kumar', '97045635', 98]\n",
      "['kumar', '97045635']\n",
      "['banana', 'apple', 'cherry', 'orange', 'mango']\n",
      "['banana', 'grapes', 'apple', 'cherry', 'orange', 'mango']\n",
      "mango\n",
      "['banana', 'grapes', 'apple', 'cherry', 'orange']\n",
      "3\n",
      "2\n",
      "Sorted List :--->['apple', 'banana', 'cherry', 'cherry', 'grapes', 'orange']\n",
      "Reversed List :--->['orange', 'grapes', 'cherry', 'cherry', 'banana', 'apple']\n",
      "----------------------------------\n",
      "\n",
      "[3, 4, 5]\n",
      "[1, 2, 3, 4, 5]\n",
      "[6, 7, 8, 9]\n",
      "[1, 3, 5, 7, 9]\n",
      "[9, 8, 7, 6, 5, 4, 3, 2, 1]\n",
      "the fruit name is : orange\n",
      "the fruit name is : grapes\n",
      "the fruit name is : cherry\n",
      "the fruit name is : cherry\n",
      "the fruit name is : banana\n",
      "the fruit name is : apple\n",
      "1\n",
      "2\n",
      "3\n",
      "4\n",
      "5\n",
      "6\n",
      "7\n",
      "8\n",
      "9\n",
      "The index of 1 is 0\n",
      "The index of 2 is 1\n",
      "The index of 3 is 2\n",
      "The index of 4 is 3\n",
      "The index of 5 is 4\n",
      "The index of 6 is 5\n",
      "The index of 7 is 6\n",
      "The index of 8 is 7\n",
      "The index of 9 is 8\n",
      "[0, 1, 4, 9, 16, 25, 36, 49, 64, 81]\n",
      "-------------List Comprehension -------------\n",
      "[0, 1, 4, 9, 16, 25, 36, 49, 64, 81]\n",
      "Suare root of the numbers : [0, 1, 4, 9, 16, 25, 36, 49, 64, 81]\n",
      "The even numbers numbers : [0, 2, 4, 6, 8, 10, 12, 14, 16, 18, 20, 22, 24, 26, 28, 30, 32, 34, 36, 38, 40, 42, 44, 46, 48, 50, 52, 54, 56, 58, 60, 62, 64, 66, 68, 70, 72, 74, 76, 78, 80, 82, 84, 86, 88, 90, 92, 94, 96, 98]\n",
      "----------Nested list comprehension ------------\n",
      "[[1, 'a'], [1, 'b'], [1, 'c'], [1, 'd'], [1, 'e'], [1, 'f'], [2, 'a'], [2, 'b'], [2, 'c'], [2, 'd'], [2, 'e'], [2, 'f'], [3, 'a'], [3, 'b'], [3, 'c'], [3, 'd'], [3, 'e'], [3, 'f'], [4, 'a'], [4, 'b'], [4, 'c'], [4, 'd'], [4, 'e'], [4, 'f'], [5, 'a'], [5, 'b'], [5, 'c'], [5, 'd'], [5, 'e'], [5, 'f'], [6, 'a'], [6, 'b'], [6, 'c'], [6, 'd'], [6, 'e'], [6, 'f']]\n",
      "[5, 5, 7, 4, 13]\n",
      "The even numbers numbers doiubled  : [0, 1, 4, 3, 16, 5, 36, 7, 64, 9]\n"
     ]
    }
   ],
   "source": [
    "## List\n",
    "\n",
    "lst=[]\n",
    "print(type(lst))\n",
    "\n",
    "names=[\"vinod\",\"kumar\",\"97045635\",98]\n",
    "print(names)\n",
    "print(names[1:-1])\n",
    "\n",
    "## Modift the list elements\n",
    "\n",
    "fruits=[\"banana\",\"apple\",\"cherry\",\"orange\",\"mango\"]\n",
    "##fruits=\"Test\"\n",
    "print(fruits)\n",
    "\n",
    "fruits.append(\"watremelon\")## adding at the end of the list\n",
    "fruits.insert(1,\"grapes\")## addding at the 1st index\n",
    "fruits.remove(\"watremelon\")## removing the element by name\n",
    "\n",
    "print(fruits)\n",
    "\n",
    "popep_frt=fruits.pop();##removed the last elemet and return the removed elemenmt\n",
    "\n",
    "print(popep_frt)\n",
    "print(fruits)\n",
    "\n",
    "index=fruits.index(\"cherry\")## give the index  value\n",
    "\n",
    "fruits.insert(index,\"cherry\")\n",
    "\n",
    "print(index)\n",
    "print(fruits.count(\"cherry\"))## Coun the cherry elemts\n",
    "\n",
    "fruits.sort()## sort the list asscending\n",
    "print(f\"Sorted List :--->{fruits}\")\n",
    "\n",
    "fruits.reverse()##reverse the list\n",
    "print(f\"Reversed List :--->{fruits}\")\n",
    "\n",
    "print(\"----------------------------------\\n\")\n",
    "##slicing List\n",
    "\n",
    "numbers=[1, 2 ,3 ,4 ,5, 6 ,7 ,8 ,9]\n",
    "\n",
    "print(numbers[2:5])## 2to 5 elemts\n",
    "\n",
    "print(numbers[:5])## start to 5 index (5-1 /e )\n",
    "print(numbers[5:])\n",
    "print(numbers[::2]) ## step size\n",
    "print(numbers[::-1])\n",
    "\n",
    "'''\n",
    "print(numbers[2:5])\n",
    "print(numbers[2:5])\n",
    "print(numbers[2:5])\n",
    "'''\n",
    "## iterating over the list\n",
    "for fruit in fruits:\n",
    "  print(f\"the fruit name is : {fruit}\")\n",
    "for num in numbers:\n",
    "  print(num)\n",
    "\n",
    "## iterate the list with index\n",
    "for index, number in enumerate(numbers):\n",
    "  print(f\"The index of {number} is {index}\")\n",
    "\n",
    "## List comprehension\n",
    "lst=[]\n",
    "for x in range(10):\n",
    "  lst.append(x**2)\n",
    "\n",
    "print(lst)\n",
    "\n",
    "print(\"-------------List Comprehension -------------\")\n",
    "\n",
    "lstCm=[ x**2 for x in range(10)]\n",
    "print(lstCm)\n",
    "## List comprehension\n",
    "## Basics syantax  [expresssion for item in iterable]\n",
    "##with condition [expression for item in iterable if condition]\n",
    "\n",
    "## basic list comprehension\n",
    "\n",
    "square=[num**2  for num in range(10)]\n",
    "print(f\"Suare root of the numbers : {square}\")\n",
    "\n",
    "## print even numbers 1-100\n",
    "\n",
    "even=[x for x in range(100) if x%2==0]\n",
    "\n",
    "print(f\"The even numbers numbers : {even}\")\n",
    "\n",
    "\n",
    "\n",
    "## Nested List Comprehension\n",
    "\n",
    "print(\"----------Nested list comprehension ------------\")\n",
    "\n",
    "lst1=[1,2,3,4,5,6]\n",
    "lst2=['a','b','c','d','e','f']\n",
    "\n",
    "mergelst=[[i,j] for i in lst1 for j in lst2]\n",
    "\n",
    "print(mergelst)\n",
    "\n",
    "## List comprehension with functions calls\n",
    "\n",
    "words =['hello','world', 'pythion', 'list','comprehension']\n",
    "length=[len(word) for word in words]\n",
    "print(length)\n",
    "\n",
    "## List comprehension with if and else block\n",
    "\n",
    "#doub the number if it is even or else keep same\n",
    "\n",
    "evenDoubt=[x**2 if x%2==0 else x for x in range(10)]\n",
    "\n",
    "print(f\"The even numbers numbers doiubled  : {evenDoubt}\")\n",
    "\n"
   ]
  },
  {
   "cell_type": "markdown",
   "metadata": {
    "id": "KWs5AaqzVXC7"
   },
   "source": [
    "# **This is all about SET  data Structure**"
   ]
  },
  {
   "cell_type": "code",
   "execution_count": 23,
   "metadata": {
    "colab": {
     "base_uri": "https://localhost:8080/"
    },
    "id": "GHlwZGNAzOyi",
    "outputId": "741f5bb9-c88f-4055-b5d3-1d59a5c27cd6"
   },
   "outputs": [
    {
     "name": "stdout",
     "output_type": "stream",
     "text": [
      "9\n",
      "9\n",
      "{1, 2, 3, 4, 5, 6, 7, 8, 9}\n",
      "After adding the elements {0, 1, 2, 3, 4, 5, 6, 7, 8, 9, 10, 11, 12, 13, 14, 15, 16, 17, 18, 19}\n",
      "After remove the 17 element {0, 1, 2, 3, 4, 5, 6, 7, 8, 9, 10, 11, 12, 13, 14, 15, 16, 18, 19}\n",
      "After remove the 17 element {0, 1, 2, 3, 4, 5, 6, 7, 8, 9, 10, 11, 12, 13, 14, 15, 16, 18, 19}\n",
      "\n",
      "\n",
      "Pop 1 element 0\n",
      "Pop 2 element 1\n",
      "Pop 3 element 2\n",
      "0\n",
      "{0, 1, 2, 3, 4, 5, 6, 7, 8, 9, 10, 11, 12, 13, 14, 15, 16, 17, 18, 19, 20, 25, 30, 35, 40, 45}\n",
      "{10, 15}\n",
      "Union Set -->{0, 1, 2, 3, 4, 5, 6, 7, 8, 9, 10, 11, 12, 13, 14, 15, 16, 17, 18, 19, 20, 25, 30, 35, 40, 45}\n",
      "Intercetion Set -->{10, 15}\n",
      "<class 'set'>\n",
      "{0, 1, 2, 3, 4, 5, 6, 7, 8, 9, 10, 11, 12, 13, 14, 15, 16, 17, 18, 19, 20, 25, 30, 35, 40, 45}\n",
      "{10, 15}\n",
      "Difference Set -->set()\n",
      "Symetric  Set -->{0, 1, 2, 3, 4, 5, 6, 7, 8, 9, 11, 12, 13, 14, 16, 17, 18, 19, 20, 25, 30, 35, 40, 45}\n",
      "\n",
      "\n",
      "## Set methods\n",
      "True\n",
      "False\n"
     ]
    }
   ],
   "source": [
    "## SET\n",
    "\n",
    "## You can create aset with {}  with values\n",
    "my_set={1,2,3,4,5,6,6,5,7,8,8,9}\n",
    "##Note: if you add duplicate values then it will take but whne you iterate the value or count the size set will ignore the duplicates\n",
    "#ex: print the size\n",
    "print(len(my_set))## size: 9\n",
    "\n",
    "## create a Ste through constructior. with help of List or tupple\n",
    "lst=[1,2,3,4,5,6,6,5,7,8,8,9]\n",
    "my_set=set(lst)\n",
    "print(len(my_set))## size: 9\n",
    "print(my_set)##ignored duplicate elements\n",
    "\n",
    "## Basics Operations Add or remove\n",
    "my_emptSet=set();\n",
    "for i in range(20):\n",
    "  ##Add\n",
    "  my_emptSet.add(i)\n",
    "\n",
    "print(f\"After adding the elements {my_emptSet}\")\n",
    "##Remove\n",
    "my_emptSet.remove(17)\n",
    "print(f\"After remove the 17 element {my_emptSet}\")\n",
    "\n",
    "##trying to delete the element which is not in the Set\n",
    "\"\"\"\n",
    "KeyError                                  Traceback (most recent call last)\n",
    "<ipython-input-20-b7e1d2035dde> in <cell line: 28>()\n",
    "##my_emptSet.remove(27)\n",
    "\"\"\"\n",
    "## to avoid these kind of errors wwe use discorx methoid whihc iw;; delete the element if it exist or elsed dicord\n",
    "my_emptSet.discard(27)\n",
    "print(f\"After remove the 17 element {my_emptSet}\")\n",
    "\n",
    "##Pop method\n",
    "## remove the random element means first element from the Set\n",
    "\n",
    "po1=my_emptSet.pop()\n",
    "po2=my_emptSet.pop()\n",
    "po3=my_emptSet.pop()\n",
    "print(\"\\n\")\n",
    "print(f\"Pop 1 element {po1}\")\n",
    "print(f\"Pop 2 element {po2}\")\n",
    "print(f\"Pop 3 element {po3}\")\n",
    "\n",
    "##Clear the all the elemets\n",
    "\n",
    "my_emptSet.clear()\n",
    "\n",
    "print(len(my_emptSet))\n",
    "\n",
    "\n",
    "##Set membership set\n",
    "\n",
    "my_emptSet=set();\n",
    "my_emptSet1=set();\n",
    "for i in range(20):\n",
    "  ##Add\n",
    "  my_emptSet.add(i)\n",
    "\n",
    "##Check the element is exit or not\n",
    "\n",
    "for i in range(10,50,5):\n",
    "    ##Add\n",
    "    if(i in my_emptSet):\n",
    "      my_emptSet1.add(i)\n",
    "    else:\n",
    "        my_emptSet.add(i)\n",
    "\n",
    "print(my_emptSet)\n",
    "\n",
    "\n",
    "print(my_emptSet1)\n",
    "\n",
    "## Mathematical Operation\n",
    "\n",
    "## Union\n",
    "\n",
    "union_set=my_emptSet.union(my_emptSet1)\n",
    "\n",
    "print(f\"Union Set -->{union_set}\")\n",
    "\n",
    "##Intersection\n",
    "\n",
    "intersection_set=my_emptSet.intersection(my_emptSet1)\n",
    "\n",
    "print(f\"Intercetion Set -->{intersection_set}\")\n",
    "print(type(intersection_set))\n",
    "\"\"\"\n",
    " Note: Intersetion_update--> will keep the common elements and modify the original set\n",
    "in our example Insertion method not changing the vbalues , instead returning the comon elemnst as new set\n",
    "\"\"\"\n",
    "\n",
    "## Differennce\n",
    "\n",
    "diff_set=my_emptSet1.difference(my_emptSet)\n",
    "\n",
    "print(my_emptSet)\n",
    "\n",
    "print(my_emptSet1)\n",
    "\"\"\"\n",
    "Note:ste1.diff(set2)\n",
    "so we are subtracting elemenst from set1 and returning the set1 not common elements, if it's therte\n",
    "ex: set1= 1,2,3,4,5,6\n",
    "set2 4,5,6,7,8,9\n",
    "then set1.diff(set2)--> 1,2,3 only bcz 4,5,6 elements discordeer\n",
    "if set2.diff(set1) then result is 7,8,9 bcz 4,5,6, are common so dicord\n",
    "********* No change in original Sets *************************\n",
    "\"\"\"\n",
    "print(f\"Difference Set -->{diff_set}\")\n",
    "\n",
    "## Symetric Diffrence\n",
    "\n",
    "\"\"\"\n",
    "\n",
    "Note: Common elements removed and return the by combiningthe  reminaing elements\n",
    "ex: set1= 1,2,3,4,5,6\n",
    "set2 4,5,6,7,8,9\n",
    "then set1.diff(set2)--> 1,2,3,7,8,9 only bcz 4,5,6 elements discordeer\n",
    "Henec, Apply the intersection (remove comon elements and then make union )\n",
    "\"\"\"\n",
    "\n",
    "symmetric_set=my_emptSet1.symmetric_difference(my_emptSet)\n",
    "\n",
    "print(f\"Symetric  Set -->{symmetric_set}\")\n",
    "\n",
    "\n",
    "\n",
    "print(\"\\n\")\n",
    "print(\"## Set methods\")\n",
    "## Set methods\n",
    "set1={3,2,1}\n",
    "set2={1,2,3,4,5}\n",
    "\n",
    "## is subest\n",
    "\n",
    "print(set1.issubset(set2))## order is not  mandatory\n",
    "\n",
    "print(set1.issuperset(set2))\n",
    "\n",
    "\n"
   ]
  },
  {
   "cell_type": "markdown",
   "metadata": {
    "id": "mk8zqWs2pip2"
   },
   "source": []
  },
  {
   "cell_type": "code",
   "execution_count": 24,
   "metadata": {
    "colab": {
     "base_uri": "https://localhost:8080/"
    },
    "id": "84Z6c9KNdbSt",
    "outputId": "ac05a6f6-6066-4978-dfa6-84dca6eb3903"
   },
   "outputs": [
    {
     "name": "stdout",
     "output_type": "stream",
     "text": [
      "The unique words--->{'are', 'thos', 'tutorial', 'discussion', 'about', 'we', 'sets', 'in'}\n",
      "The count of the unique words==>8\n"
     ]
    }
   ],
   "source": [
    "### Counting unique words in text\n",
    "\n",
    "text= \" in thos tutorial we are discussion about sets\"\n",
    "words=text.split();\n",
    "## converst list of words into Set\n",
    "\n",
    "unique_word=set(words)\n",
    "print(f\"The unique words--->{unique_word}\")\n",
    "\n",
    "print(f\"The count of the unique words==>{len(unique_word)}\")"
   ]
  },
  {
   "cell_type": "markdown",
   "metadata": {
    "id": "06I8quNHVjTU"
   },
   "source": [
    "# **Dictonaries Data Structures **"
   ]
  },
  {
   "cell_type": "code",
   "execution_count": 25,
   "metadata": {
    "colab": {
     "base_uri": "https://localhost:8080/"
    },
    "id": "t_Q7-PdSpc6Z",
    "outputId": "bccbd393-3d1e-4706-9890-bbfcb67cad3d"
   },
   "outputs": [
    {
     "name": "stdout",
     "output_type": "stream",
     "text": [
      "<class 'dict'>\n",
      "<class 'dict'>\n",
      "{'name': 'Krishn', 'age': '35', 'Phone ': 9875646, 'grade': 3, 1: 'hE IS ONE1'}\n",
      "3\n",
      "Not Available\n",
      "{'name': 'Krishn', 'age': '35', 'Phone ': 9875646, 'grade': 3, 1: 'hE IS ONE1'}\n",
      "After adding new key: {'name': 'Krishn', 'age': '35', 'Phone ': 9875646, 'grade': 3, 1: 'hE IS ONE1', 'Address': 'Hyderabad'}\n",
      "After update the  key: {'name': 'Krishn', 'age': '35', 'Phone ': 9875646, 'grade': 3, 1: 'First Grade', 'Address': 'Hyderabad'}\n",
      "After delete the  key: {'name': 'Krishn', 'age': '35', 'Phone ': 9875646, 'grade': 3, 'Address': 'Hyderabad'}\n",
      "The keys from Studnet Dic: dict_keys(['name', 'age', 'Phone ', 'grade', 'Address'])\n",
      "The values from Studnet Dic: dict_values(['Krishn', '35', 9875646, 3, 'Hyderabad'])\n",
      " The is : name and the value is Krishn\n",
      " The is : age and the value is 35\n",
      " The is : Phone  and the value is 9875646\n",
      " The is : grade and the value is 3\n",
      " The is : Address and the value is Hyderabad\n",
      " All the items dict_items([('name', 'Krishn'), ('age', '35'), ('Phone ', 9875646), ('grade', 3), ('Address', 'Hyderabad')])\n",
      "\n",
      "  Shallow copy section \n",
      "\n",
      "{'name': 'Krishn', 'age': '35', 'Phone ': 9875646, 'grade': 3, 'Address': 'Hyderabad'}\n",
      "{'name': 'Krishn', 'age': '35', 'Phone ': 9875646, 'grade': 3, 'Address': 'Hyderabad', 'Section': 'B'}\n",
      "{'name': 'Krishn', 'age': '35', 'Phone ': 9875646, 'grade': 3, 'Address': 'Hyderabad', 'Section': 'B'}\n",
      "{'name': 'Krishn', 'age': '35', 'Phone ': 9875646, 'grade': 3, 'Address': 'Hyderabad', 'Section': 'B'}\n",
      "{'name': 'Krishn', 'age': '35', 'Phone ': 9875646, 'grade': 3, 'Address': 'Hyderabad', 'Section': 'B'}\n",
      "{'name': 'Krishn', 'age': '35', 'Phone ': 9875646, 'grade': 3, 'Address': 'Hyderabad', 'Section': 'B'}\n",
      "{'name': 'Krishn', 'age': '35', 'Phone ': 9875646, 'grade': 3, 'Address': 'Hyderabad', 'Section': 'B', 'Branch': 'CSE'}\n",
      "<class 'dict'>\n",
      " The Key is : name and the value is:  Krishn\n",
      " The Key is : age and the value is:  35\n",
      " The Key is : Phone  and the value is:  9875646\n",
      " The Key is : grade and the value is:  3\n",
      " The Key is : Address and the value is:  Hyderabad\n",
      " The Key is : Section and the value is:  B\n",
      " The Key is : Branch and the value is:  CSE\n",
      "Nested loop of Dictionary \n",
      "\n",
      " The Studnet ID : student1\n",
      " Key : name and the value is : Krishn\n",
      " Key : age and the value is : 32\n",
      " Key : place and the value is : Hyd\n",
      " The Studnet ID : student2\n",
      " Key : name and the value is : Peter\n",
      " Key : age and the value is : 35\n",
      " Key : place and the value is : Delhi\n",
      "{0: 0, 1: 1, 2: 4, 3: 9, 4: 16, 5: 25, 6: 36, 7: 49, 8: 64, 9: 81, 10: 100, 11: 121, 12: 144, 13: 169, 14: 196, 15: 225, 16: 256, 17: 289, 18: 324, 19: 361, 20: 400, 21: 441, 22: 484, 23: 529, 24: 576, 25: 625, 26: 676, 27: 729, 28: 784, 29: 841, 30: 900, 31: 961, 32: 1024, 33: 1089, 34: 1156, 35: 1225, 36: 1296, 37: 1369, 38: 1444, 39: 1521, 40: 1600, 41: 1681, 42: 1764, 43: 1849, 44: 1936, 45: 2025, 46: 2116, 47: 2209, 48: 2304, 49: 2401}\n",
      "\n",
      " double the even numbers only\n",
      "{0: 0, 1: 1, 2: 4, 3: 3, 4: 16, 5: 5, 6: 36, 7: 7, 8: 64, 9: 9, 10: 100, 11: 11, 12: 144, 13: 13, 14: 196, 15: 15, 16: 256, 17: 17, 18: 324, 19: 19}\n",
      "{1: 1, 2: 2, 3: 2, 4: 4, 5: 1, 6: 4, 7: 3}\n",
      "=================================================Merged dictionaries\n",
      "=============================\n",
      "{'a': 1, 'b': 2, 'c': 4, 'd': 5, 'e': 6}\n"
     ]
    }
   ],
   "source": [
    "## Dictionaries\n",
    "\"\"\"\n",
    "Dictionaries are unordered collections of items. They store data in key-value pairs.\n",
    "keys must be unique and immutable (Eg. Strings, numbers or tupples) while values can be any type\n",
    "\n",
    "\"\"\"\n",
    "\n",
    "\n",
    "##Creating an empty disctonary\n",
    "empty_dict={}\n",
    "print(type(empty_dict))\n",
    "empty_dict=dict()\n",
    "print(type(empty_dict))\n",
    "\n",
    "student={\n",
    "    \"name\": \"Krishn\",\n",
    "    \"age\" : \"35\",\n",
    "    \"Phone \": 9875646,\n",
    "    'grade' : 3,\n",
    "    1:\"hE IS ONE\",\n",
    "    1:\"hE IS ONE1\"\n",
    "}\n",
    "\n",
    "print(student)\n",
    "\n",
    "## eRROR--> Single key is always use instead of multiple\n",
    "\n",
    "## Accessing dictonary elements\n",
    "graed=student['grade']\n",
    "print(graed)\n",
    "##Access using get method  provided by disctionary\n",
    "phone=student.get(\"Phone\",\"Not Available\")## If key is not there then next statement will print\n",
    "print(phone)\n",
    "\n",
    "## Modify the disctionary elements\n",
    "## Dictionary are mutable, so you can add , upadte or delete elements\n",
    "print(student)\n",
    "\n",
    "# adding new key\n",
    "student['Address']=\"Hyderabad\"\n",
    "print(f\"After adding new key: {student}\")\n",
    "\n",
    "## update\n",
    "\n",
    "student[1]=\"First Grade\"\n",
    "print(f\"After update the  key: {student}\")\n",
    "\n",
    "del student[1]\n",
    "print(f\"After delete the  key: {student}\")\n",
    "\n",
    "## Dictionary methods\n",
    "\n",
    "keys=student.keys()\n",
    "print(f\"The keys from Studnet Dic: {keys}\")\n",
    "\n",
    "values=student.values();\n",
    "\n",
    "print(f\"The values from Studnet Dic: {values}\")\n",
    "\n",
    "for i in keys:\n",
    "  print(f\" The is : {i} and the value is {student.get(i)}\")\n",
    "\n",
    "\n",
    "items=student.items()# get the all key-value pairs\n",
    "\n",
    "print(f\" All the items {items}\")\n",
    "\n",
    "print(\"\\n  Shallow copy section \\n\")\n",
    "\n",
    "## Shallow copy\n",
    "\n",
    "student_copy=student## COpying the dictonary\n",
    "\n",
    "print(student_copy)\n",
    "\n",
    "student[\"Section\"]=\"B\"\n",
    "\n",
    "print(student_copy)\n",
    "\n",
    "print(student)\n",
    "\n",
    "## In normal copy, if we change the original disctionary\n",
    "## then the respectuve dictionay alwo getting changed\n",
    "\n",
    "stundet_copy1=student.copy()## Wil create a separet memeory and it's not impacting on the exiting dict\n",
    "\n",
    "print(stundet_copy1)\n",
    "\n",
    "print(student)\n",
    "\n",
    "student[\"Branch\"]=\"CSE\"\n",
    "\n",
    "print(stundet_copy1)\n",
    "\n",
    "print(student)\n",
    "\n",
    "print(type(stundet_copy1))\n",
    "\n",
    "## Iterate the Dic\n",
    "\n",
    "for key,val in student.items():\n",
    "  print(f\" The Key is : {key} and the value is:  {val}\")\n",
    "\n",
    "\n",
    "\n",
    "## Nested Dictionaries\n",
    "\n",
    "students={\n",
    "    \"student1\": {\n",
    "        \"name\": \"Krishn\",\n",
    "        \"age\": 32,\n",
    "        \"place\": \"Hyd\"\n",
    "    },\n",
    "    \"student2\": {\n",
    "        \"name\": \"Peter\",\n",
    "        \"age\": 35,\n",
    "        \"place\": \"Delhi\"\n",
    "    }\n",
    "}\n",
    "\n",
    "print(\"Nested loop of Dictionary \\n\")\n",
    "\n",
    "##Iterate the nested Dic\n",
    "\n",
    "for student_id, Stud_info in students.items():\n",
    "  print(f\" The Studnet ID : {student_id}\")\n",
    "  for key, val in Stud_info.items():\n",
    "      print(f\" Key : {key} and the value is : {val}\")\n",
    "\n",
    "\n",
    "\n",
    "## Comprehensions\n",
    "## here we can write the code in simplar format\n",
    "\n",
    "numbersDic={i:i**2 for i in range(50)}## here we are contsrtcting the Dictonary with for loop in single line of code.\n",
    "print(numbersDic)\n",
    "\n",
    "print(\"\\n double the even numbers only\")\n",
    "\n",
    "evenNusDec={ i: i**2 if i%2==0 else i for i in range(20)}\n",
    "\n",
    "\n",
    "print(evenNusDec)\n",
    "\n",
    "## use the dictionary to count the frequency of the list\n",
    "\n",
    "lst=[1,2,2,3,3,4,5,6,6,6,6,7,7,7,4,4,4]\n",
    "freqDic={}\n",
    "for num in lst:\n",
    "  if  num in freqDic:\n",
    "    freqDic[num]+=1\n",
    "  else:\n",
    "    freqDic[num]=1\n",
    "\n",
    "print(freqDic)\n",
    "\n",
    "## Merged Dictionaries\n",
    "dic1={\n",
    "    \"a\":1,\n",
    "    \"b\":2,\n",
    "    \"c\":3\n",
    "}\n",
    "\n",
    "dic2={\n",
    "    \"c\":4,\n",
    "    \"d\":5,\n",
    "    \"e\":6\n",
    "}\n",
    "\n",
    "mered_dic={**dic1,**dic2}\n",
    "\n",
    "print(\"=================================================Merged dictionaries\\n=============================\")\n",
    "\n",
    "print(mered_dic)\n"
   ]
  },
  {
   "cell_type": "markdown",
   "metadata": {
    "id": "zc5pOOjuVoI9"
   },
   "source": [
    "# **Tupples Data Structures**"
   ]
  },
  {
   "cell_type": "code",
   "execution_count": 26,
   "metadata": {
    "id": "rqp5A3qz3LOd"
   },
   "outputs": [
    {
     "name": "stdout",
     "output_type": "stream",
     "text": [
      "<class 'tuple'>\n",
      "<class 'tuple'>\n",
      "(1, 2, 3, 4, 5, 6, 6)\n",
      "(1, 2, 3, 4, 5, 6, 6)\n",
      "('Krishn', 1, 2090.46, True)\n",
      "9\n",
      "(5, 6, 7, 8)\n",
      "(0, 1, 2, 3, 4, 5, 6, 7, 8, 9)\n",
      "(9, 8, 7, 6, 5, 4, 3, 2, 1, 0)\n",
      "(9, 7, 5, 3, 1)\n",
      "Before multiplication Tuple  ======: ('Krishn', 1, 2090.46, True, 0, 1, 2, 3, 4, 5, 6, 7, 8, 9)\n",
      "after  multiplication Tuple =======: ('Krishn', 1, 2090.46, True, 0, 1, 2, 3, 4, 5, 6, 7, 8, 9, 'Krishn', 1, 2090.46, True, 0, 1, 2, 3, 4, 5, 6, 7, 8, 9, 'Krishn', 1, 2090.46, True, 0, 1, 2, 3, 4, 5, 6, 7, 8, 9)\n",
      "\n",
      "\n",
      "1\n",
      "3\n",
      "(1, 'hello', 3.14)\n",
      "1\n",
      "hello\n",
      "3.14\n",
      "the value in first variable is : 0 and the type of the variable is <class 'int'>\n",
      "the value in fourth variable is : [3, 4, 5, 6, 7, 8, 9] and the type of the variable is <class 'list'>\n",
      "['hello', 3.14]\n",
      "without iteration printing tuple---->\n",
      "([1, 2, 3, 4], [6, 7, 8, 9], [1, 'hello', 3.14, 'c'])\n",
      "without iteration printing tuple---->\n",
      "With iteration printing tuple---->\n",
      "At the index of 0\n",
      "1 \n",
      "2 \n",
      "3 \n",
      "4 \n",
      "At the index of 1\n",
      "6 \n",
      "7 \n",
      "8 \n",
      "9 \n",
      "At the index of 2\n",
      "1 \n",
      "hello \n",
      "3.14 \n",
      "c \n",
      "With iteration printing tuple---->\n"
     ]
    }
   ],
   "source": [
    "\n",
    "## Tupples\n",
    "##Tuple sare ordered collection of items that are immutable. They are similar to list, but their immutability makes them different\n",
    "\n",
    "\n",
    "empty_tuple=();\n",
    "print(type(empty_tuple))\n",
    "tpl=tuple()\n",
    "\n",
    "print(type(tpl))\n",
    "\n",
    "# create tuple with list\n",
    "my_tuple=tuple([1,2,3,4,5,6,6])\n",
    "print(my_tuple)\n",
    "tempLst=list();\n",
    "for i in range(10):\n",
    "  tempLst.append(i)\n",
    "\n",
    "numbers_tuple=tuple(tempLst)\n",
    "\n",
    "print(my_tuple)\n",
    "\n",
    "## We can mix diffrenet type of data\n",
    "mix_tuple=(\"Krishn\",1,2090.46,True)\n",
    "print(mix_tuple)\n",
    "\n",
    "\n",
    "## Access the Tuple elemets\n",
    "print(numbers_tuple[9])##Prin tghe specific index number\n",
    "\n",
    "print(numbers_tuple[5:9])## Print the sub set of tuples index 5 and last index-1\n",
    "\n",
    "print(numbers_tuple[::])## No start or end index and no step so printing default tuple\n",
    "\n",
    "print(numbers_tuple[::-1])## reverse of the tuple step by 1\n",
    "\n",
    "print(numbers_tuple[::-2])## reverse of the tuple step by 2\n",
    "\n",
    "## Tuple Operations\n",
    "\n",
    "##NUmbwers + Mizxed tuples--> COncatination\n",
    "\n",
    "concat_tuple=mix_tuple+numbers_tuple## It will give new tuple\n",
    "print(f\"Before multiplication Tuple  ======: {concat_tuple}\")\n",
    "print(f\"after  multiplication Tuple =======: {concat_tuple*3}\")## We are appending 3 times (means 3 times)\n",
    "print(\"\\n\")\n",
    "\n",
    "## Immutable nature of tupples\n",
    "\"\"\"\n",
    "Once you created the tuple we can't change means tuple=(1,2,3,4,5)\n",
    "after then if we try to change th tuple values at any index then it will trow error\n",
    "ex: tuple[0]=\"krihsn\" // error\n",
    "in this case, we can copnvert tupple to lst anbdmodify the lst and reconvert to tuple\n",
    "\n",
    "\"\"\"\n",
    "\n",
    "## Tuple Methods\n",
    "\n",
    "print(numbers_tuple.count(1))# Coun the values\n",
    "\n",
    "print(numbers_tuple.index(3))## It return the first occuracne of the indexd of the element\n",
    "\n",
    "\n",
    "## Packing and unpacking tuple\n",
    "packed_tuple=1,\"hello\",3.14\n",
    "print(packed_tuple)\n",
    "## unpacked tupples\n",
    "a,b,c=packed_tuple\n",
    "print(a)\n",
    "print(b)\n",
    "print(c)\n",
    "\n",
    "## unpacking with * (star)\n",
    "\n",
    "first,second,third,*fourth=numbers_tuple;\n",
    "print(f\"the value in first variable is : {first} and the type of the variable is {type(first)}\")\n",
    "print(f\"the value in fourth variable is : {fourth} and the type of the variable is {type(fourth)}\")\n",
    "\n",
    "## Nested Tuples\n",
    "\n",
    "nested_lst=[[1,2,3,4],[6,7,8,9],[1,\"hello\",3.14,\"c\"]]## List nested\n",
    "\n",
    "\"\"\"\n",
    "Slicing is nothing but the subtract the elements from the main List\n",
    "\"\"\"\n",
    "## want to prin the Hello, 3.14  so\n",
    "\n",
    "print(nested_lst[2][1:3])## return type is List\n",
    "\n",
    "##Create Tuple with nested List\n",
    "nested_tuple=tuple(nested_lst)\n",
    "print(\"without iteration printing tuple---->\")\n",
    "print(nested_tuple)\n",
    "\n",
    "print(\"without iteration printing tuple---->\")\n",
    "\n",
    "## Iterating nested tuples\n",
    "\n",
    "print(\"With iteration printing tuple---->\")\n",
    "count=0\n",
    "for subTuple in nested_tuple:\n",
    "  print(f\"At the index of {count}\")\n",
    "  count+=1\n",
    "  for item in subTuple:\n",
    "    print(item, end=\" \")\n",
    "    print(\"\")\n",
    "\n",
    "print(\"With iteration printing tuple---->\")\n",
    "\n",
    "\n",
    "\n",
    "\n",
    "\n"
   ]
  },
  {
   "cell_type": "code",
   "execution_count": 27,
   "metadata": {
    "id": "BGUX9RQLbL_E"
   },
   "outputs": [],
   "source": [
    "## Functions\n"
   ]
  },
  {
   "cell_type": "markdown",
   "metadata": {
    "id": "gqvuxoDzCoia"
   },
   "source": [
    "# **A function is a blockj of code that performs a specific task. Function help in organizing the code , reusing code and improving readbility.**"
   ]
  },
  {
   "cell_type": "code",
   "execution_count": 28,
   "metadata": {
    "colab": {
     "base_uri": "https://localhost:8080/"
    },
    "id": "zwrxdXUuCehh",
    "outputId": "af98bb34-8052-4559-bf9e-08d31628d715"
   },
   "outputs": [
    {
     "ename": "FileNotFoundError",
     "evalue": "[Errno 2] No such file or directory: '/content/sample_data/sample.txt'",
     "output_type": "error",
     "traceback": [
      "\u001b[1;31m---------------------------------------------------------------------------\u001b[0m",
      "\u001b[1;31mFileNotFoundError\u001b[0m                         Traceback (most recent call last)",
      "Cell \u001b[1;32mIn[28], line 180\u001b[0m\n\u001b[0;32m    176\u001b[0m           word_count[word]\u001b[38;5;241m=\u001b[39mword_count\u001b[38;5;241m.\u001b[39mget(word,\u001b[38;5;241m0\u001b[39m)\u001b[38;5;241m+\u001b[39m\u001b[38;5;241m1\u001b[39m\n\u001b[0;32m    177\u001b[0m     \u001b[38;5;28;01mreturn\u001b[39;00m word_count\n\u001b[1;32m--> 180\u001b[0m \u001b[43mcount_word_frequency\u001b[49m\u001b[43m(\u001b[49m\u001b[38;5;124;43m\"\u001b[39;49m\u001b[38;5;124;43m/content/sample_data/sample.txt\u001b[39;49m\u001b[38;5;124;43m\"\u001b[39;49m\u001b[43m)\u001b[49m\n",
      "Cell \u001b[1;32mIn[28], line 170\u001b[0m, in \u001b[0;36mcount_word_frequency\u001b[1;34m(file_path)\u001b[0m\n\u001b[0;32m    168\u001b[0m \u001b[38;5;28;01mdef\u001b[39;00m \u001b[38;5;21mcount_word_frequency\u001b[39m(file_path):\n\u001b[0;32m    169\u001b[0m   word_count\u001b[38;5;241m=\u001b[39m{}\n\u001b[1;32m--> 170\u001b[0m   \u001b[38;5;28;01mwith\u001b[39;00m \u001b[38;5;28;43mopen\u001b[39;49m\u001b[43m(\u001b[49m\u001b[43mfile_path\u001b[49m\u001b[43m,\u001b[49m\u001b[38;5;124;43m'\u001b[39;49m\u001b[38;5;124;43mr\u001b[39;49m\u001b[38;5;124;43m'\u001b[39;49m\u001b[43m)\u001b[49m \u001b[38;5;28;01mas\u001b[39;00m file:\n\u001b[0;32m    171\u001b[0m     \u001b[38;5;28;01mfor\u001b[39;00m line \u001b[38;5;129;01min\u001b[39;00m file:\n\u001b[0;32m    172\u001b[0m       words\u001b[38;5;241m=\u001b[39mline\u001b[38;5;241m.\u001b[39msplit(\u001b[38;5;124m\"\u001b[39m\u001b[38;5;124m \u001b[39m\u001b[38;5;124m\"\u001b[39m)\n",
      "File \u001b[1;32m~\\AppData\\Roaming\\Python\\Python313\\site-packages\\IPython\\core\\interactiveshell.py:324\u001b[0m, in \u001b[0;36m_modified_open\u001b[1;34m(file, *args, **kwargs)\u001b[0m\n\u001b[0;32m    317\u001b[0m \u001b[38;5;28;01mif\u001b[39;00m file \u001b[38;5;129;01min\u001b[39;00m {\u001b[38;5;241m0\u001b[39m, \u001b[38;5;241m1\u001b[39m, \u001b[38;5;241m2\u001b[39m}:\n\u001b[0;32m    318\u001b[0m     \u001b[38;5;28;01mraise\u001b[39;00m \u001b[38;5;167;01mValueError\u001b[39;00m(\n\u001b[0;32m    319\u001b[0m         \u001b[38;5;124mf\u001b[39m\u001b[38;5;124m\"\u001b[39m\u001b[38;5;124mIPython won\u001b[39m\u001b[38;5;124m'\u001b[39m\u001b[38;5;124mt let you open fd=\u001b[39m\u001b[38;5;132;01m{\u001b[39;00mfile\u001b[38;5;132;01m}\u001b[39;00m\u001b[38;5;124m by default \u001b[39m\u001b[38;5;124m\"\u001b[39m\n\u001b[0;32m    320\u001b[0m         \u001b[38;5;124m\"\u001b[39m\u001b[38;5;124mas it is likely to crash IPython. If you know what you are doing, \u001b[39m\u001b[38;5;124m\"\u001b[39m\n\u001b[0;32m    321\u001b[0m         \u001b[38;5;124m\"\u001b[39m\u001b[38;5;124myou can use builtins\u001b[39m\u001b[38;5;124m'\u001b[39m\u001b[38;5;124m open.\u001b[39m\u001b[38;5;124m\"\u001b[39m\n\u001b[0;32m    322\u001b[0m     )\n\u001b[1;32m--> 324\u001b[0m \u001b[38;5;28;01mreturn\u001b[39;00m \u001b[43mio_open\u001b[49m\u001b[43m(\u001b[49m\u001b[43mfile\u001b[49m\u001b[43m,\u001b[49m\u001b[43m \u001b[49m\u001b[38;5;241;43m*\u001b[39;49m\u001b[43margs\u001b[49m\u001b[43m,\u001b[49m\u001b[43m \u001b[49m\u001b[38;5;241;43m*\u001b[39;49m\u001b[38;5;241;43m*\u001b[39;49m\u001b[43mkwargs\u001b[49m\u001b[43m)\u001b[49m\n",
      "\u001b[1;31mFileNotFoundError\u001b[0m: [Errno 2] No such file or directory: '/content/sample_data/sample.txt'"
     ]
    }
   ],
   "source": [
    "def function_name(params):\n",
    "  \"\"\" DOC string\"\"\"## Comments\n",
    "  ##Function Body\n",
    "  ## return expression\n",
    "\n",
    "def checkEvenOrOdd(num):\n",
    "  if num%2==0:\n",
    "    return \"Even\"\n",
    "  else:\n",
    "    return \"Odd\"\n",
    "\n",
    "##checkEvenOrOdd(47)\n",
    "\n",
    "## default params\n",
    "\n",
    "def greet(name=\"Guest\"):\n",
    "  return f\"Welcome  {name}\"\n",
    "\n",
    "\n",
    "##variable length Arugmets\n",
    "##Positional and keywodf arguments\n",
    "\n",
    "def print_params(*agrs):\n",
    "  ##If we are not sure aboutthe number of\n",
    "  ## parameters then we use positional arguments\n",
    "  for number in agrs:\n",
    "    print(number, end=\"\\n\")\n",
    "    print()\n",
    "##print_params(1,2,3,4,5,6,7,8,9,\"Krishn\")\n",
    "\n",
    "##Keyword arguments\n",
    "def print_details(**kwargs):\n",
    "  for key,val in kwargs.items():\n",
    "    print(f\"Key :  {key} and value s: {val}\")\n",
    "\n",
    "##print_details(name=\"Krishn\",age=32, country=\"India\")\n",
    "dict_temp={\n",
    "    \"name\":\"krishn\",\n",
    "    \"age\": 35\n",
    "}\n",
    "##print_details(**dict_temp)## when we needt o passs th dictionary to kwargs as parameter\n",
    "\n",
    "## Combine Position and keyword args\n",
    "def print_details(*args,**kwargs):\n",
    "  for val in args:\n",
    "    print(f\"Postions arguments are : {val}\")\n",
    "  for key,val in kwargs.items():\n",
    "    print(f\"The Keyword arguments data key : {key} and value is : {val}\")\n",
    "lst=(1,2,3,4,5,6,7,8,9,\"Krishn\")\n",
    "##print_details(1,2,3,4,5,6,7,8,9,\"Krishn\",**dict_temp)\n",
    "\n",
    "# Return Statements\n",
    "## Function always return somethings\n",
    "## multiple returns\n",
    "def multify(a,b):\n",
    "  return a**b, a%b\n",
    "multify(2,5)\n",
    "\n",
    "## Temperature Conversion\n",
    "def convert_temperature(temp,unit):\n",
    "  \"\"\"This function converts temperature between celsius and Fahrenheit\"\"\"\n",
    "  if unit=='C':\n",
    "    return temp* 9/5+32 ## Celsius to Farenheit\n",
    "  elif unit=='F':\n",
    "    return (temp-32)* 5/9## Ferehneit to Celsius\n",
    "  else:\n",
    "    return None\n",
    "convert_temperature(25,'C')\n",
    "convert_temperature(77,'F')\n",
    "\n",
    "\n",
    "## Password strenght Checker\n",
    "def is_strong_password(password):\n",
    "  \"\"\" This function checks if the password is string or not\"\"\"\n",
    "  if len(password) <8:\n",
    "    return False\n",
    "  if not any(char.isdigit() for char in password):\n",
    "    return False\n",
    "  if not any( char.islower() for char in password):\n",
    "    return False\n",
    "  if not any( char.isupper() for char in password):\n",
    "    return False\n",
    "  if not any ( char in '@$_' for char in password):\n",
    "    return False\n",
    "  return True\n",
    "\n",
    "\n",
    "\n",
    "def checkPassword(passwrd):\n",
    "  res=is_strong_password(passwrd)\n",
    "  print(f\"{passwrd} , is \",end=\"\")\n",
    "  if(res):\n",
    "    print(\"Met the Password Policy\")\n",
    "  else:\n",
    "      print(\"Not met the Password Policy\")\n",
    "\"\"\"\n",
    "checkPassword(\"vinod\")\n",
    "checkPassword(\"Vinod\")\n",
    "checkPassword(\"Vinod1\")\n",
    "checkPassword(\"VinodKumar1@\")## Met the pssword\n",
    "checkPassword(\"Vinod@\")\n",
    "checkPassword(\"vinod1@\")\n",
    "\n",
    "\"\"\"\n",
    "\n",
    "## Calculate the Total Cost of Items in a shopping Cart\n",
    "def calculate_total_cost(cart):\n",
    "  total_cost=0\n",
    "  for prdObj in cart:\n",
    "     total_cost+=prdObj['price']*prdObj['quantity']\n",
    "  return total_cost\n",
    "\n",
    "\n",
    "\n",
    "## Examples Cart data\n",
    "carrt_lst=[\n",
    "    {'name':\"apple\",\n",
    "     'price': 0.5,\n",
    "     'quantity': 4\n",
    "    },\n",
    "     {'name':\"orange\",\n",
    "     'price': 0.3,\n",
    "     'quantity': 6\n",
    "    },\n",
    "     {'name':\"grapes\",\n",
    "     'price': 0.7,\n",
    "     'quantity': 3\n",
    "    }\n",
    "]\n",
    "\n",
    "##calculate_total_cost(carrt_lst)\n",
    "\n",
    "## Check is the String is Palidrome or not\n",
    "\n",
    "def checkPalin(str):\n",
    "  i=0\n",
    "  j=len(str)-1\n",
    "  while i<=j:\n",
    "    if(str[i]!=str[j]):\n",
    "      return False\n",
    "    else:\n",
    "      i+=1\n",
    "      j-=1\n",
    "  return True\n",
    "## Another approach\n",
    "def is_palindrom(str):\n",
    "  str.lower().replace(\" \",\"\")\n",
    "  return str==str[::-1]\n",
    "\n",
    "\n",
    "##checkPalin(\"A man a plan a canal Panama\")\n",
    "\n",
    "##Calculate the factorila of a number usinrecursion\n",
    "\n",
    "def factorial(n):\n",
    "  ##base ccase\n",
    "  if n==0:\n",
    "    return 0\n",
    "  elif n==1:\n",
    "    return 1\n",
    "  else:\n",
    "    return n*factorial(n-1)\n",
    "\n",
    "##factorial(3)\n",
    "\n",
    "\n",
    "# A function to read a file and count the frequency of each word.\n",
    "def count_word_frequency(file_path):\n",
    "  word_count={}\n",
    "  with open(file_path,'r') as file:\n",
    "    for line in file:\n",
    "      words=line.split(\" \")\n",
    "      for word in words:\n",
    "        word=word.lower().strip()\n",
    "        if len(word)>0:\n",
    "          word_count[word]=word_count.get(word,0)+1\n",
    "    return word_count\n",
    "\n",
    "\n",
    "count_word_frequency(\"/content/sample_data/sample.txt\")\n",
    "\n"
   ]
  },
  {
   "cell_type": "markdown",
   "metadata": {
    "id": "y7tE62ythPQL"
   },
   "source": [
    "# **Python Lambda Functions**\n",
    "Lambda functions are small anonymous functions defined usingthe lambda key word. They can have any number of arguments but only one expression. They are commonly used for short operatiosn or as argument to higher-order functions.\n",
    "\n"
   ]
  },
  {
   "cell_type": "code",
   "execution_count": null,
   "metadata": {
    "colab": {
     "base_uri": "https://localhost:8080/"
    },
    "id": "pokU_b2ZFry-",
    "outputId": "4e08f412-cf1a-4669-f7aa-637af6aeb77b"
   },
   "outputs": [],
   "source": [
    "## Syntax\n",
    "lambda arguments: expression"
   ]
  },
  {
   "cell_type": "code",
   "execution_count": null,
   "metadata": {
    "id": "fI3Y_L0wr746"
   },
   "outputs": [],
   "source": [
    "def additions(a,b):\n",
    "  return a+b\n",
    "\n",
    "## Converstingto lambada expression\n",
    "additions_lm=lambda a,b:a+b\n",
    "print(additions_lm(12,12))\n",
    "\n",
    "def evenNo(num):\n",
    "  if num%2==0:\n",
    "    return \"even\"\n",
    "  else:\n",
    "    return \"Odd\"\n",
    "\n",
    "evenNo(701)\n",
    "\n",
    "## With Lamdbda\n",
    "\n",
    "even_or_odd= lambda num:num%2==0\n",
    "even_or_odd(900)\n",
    "\n",
    "##Map---> applies a function to all items in a list\n",
    "\n",
    "numbers=[1,2,3,4,5,6,7,8,9]\n",
    "\n",
    "print(list(map(lambda x:x**2,numbers)))\n",
    "print(type(map(lambda x:x**2,numbers)))\n"
   ]
  },
  {
   "cell_type": "markdown",
   "metadata": {
    "id": "s3-QAhVkz2YH"
   },
   "source": [
    "The Map functions in python\n",
    "The map() function applies a given function to all items in a an input list (or any other iterabke) and returns a map object (an iterator). This is particularly useful for transforming data in a list comprehensively.\n"
   ]
  },
  {
   "cell_type": "code",
   "execution_count": null,
   "metadata": {
    "id": "gddMDUZ2wL2b"
   },
   "outputs": [],
   "source": [
    "def square(n):\n",
    "  return n**2\n",
    "\n",
    "numbers=[1,2,3,4,5]\n",
    "list(map(lambda x:x**2,numbers))\n",
    "\n",
    "##Map mutiple iterables\n",
    "numbers1=[1,2,3,4,5,6]\n",
    "numbers2=[6,5,4,3,2,1]\n",
    "##Combine two list\n",
    "list(map(lambda x,y:x+y,numbers1,numbers2))##[7, 7, 7, 7, 7, 7]\n",
    "## map() to convert a list of String sto integers\n",
    "##use map to convert strings to integres\n",
    "str_numbers=[\"1\",\"2\",\"3\",\"4\",\"5\"]\n",
    "int_numbers=list(map(int,str_numbers))\n",
    "##print(int_numbers)##[1, 2, 3, 4, 5]\n",
    "str_words_lower=[\"vinod\",\"kumar\",\"gummadi\"]\n",
    "str_words_Upper=list(map(str.upper,str_words_lower))\n",
    "##print(str_words_Upper)##['VINOD', 'KUMAR', 'GUMMADI']\n",
    "\n",
    "def get_name(person):\n",
    "  return person['name']\n",
    "\n",
    "persons_dic=[{\n",
    "    \"name\": \"krishn\",\n",
    "    \"age\" : 29,\n",
    "    \"address\":\"Hyd\"\n",
    "},{\n",
    "    \"name\": \"Denis\",\n",
    "    \"age\" : 49,\n",
    "    \"address\":\"Miami\"\n",
    "},{\n",
    "    \"name\": \"Escobar\",\n",
    "    \"age\" :31,\n",
    "    \"address\":\"Delhi\"\n",
    "}]\n",
    "\n",
    "##list(map(get_name,persons_dic))##['krishn', 'Denis', 'Escobar']\n",
    "Result_lst=list(map(lambda obj:obj['name'],persons_dic))\n",
    "print(f\"The names from Persons dictionariues are: {Result_lst}\")\n",
    "\"\"\"\n",
    "\n",
    "The map() function is a powerful tool for applying transformations to iteratble data structuirtes.\n",
    " it cacan be used with regular fucntions , lambda and even mutiple iteratle ,\n",
    " providing a versatile approach to data processing in python.\n",
    " by understanding and utlizing map() m you can write more effieicent and readbalke code.\n",
    "\"\"\""
   ]
  },
  {
   "cell_type": "markdown",
   "metadata": {
    "id": "xnSvPwEETCB5"
   },
   "source": [
    "# F**ilters() functions in python**\n",
    "\n",
    "The filter() function constructs an iterator from elements of an ityerable for which a function returns true. It is used to filter out items from a list (or any other iterable ) based on a condition.\n"
   ]
  },
  {
   "cell_type": "code",
   "execution_count": null,
   "metadata": {
    "colab": {
     "base_uri": "https://localhost:8080/"
    },
    "id": "sXVZkyB8-HvJ",
    "outputId": "243e6cef-cbf7-4e90-ba82-ddeb6f0c52d3"
   },
   "outputs": [],
   "source": [
    "numbers_lst=[1,2,3,4,5,6,7,8,9,10]\n",
    "even_numbers=list(filter(lambda x:x%2==0,numbers_lst))\n",
    "odd_numbers=list(filter(lambda x:x%2!=0,numbers_lst))\n",
    "\n",
    "odd_numbers1=list(map(lambda x:x%2!=0,numbers_lst))\n",
    "print(f\"Even number are: {even_numbers}\")\n",
    "print(f\"Odd number are: {odd_numbers}\")\n",
    "print(f\"Odd number are with Map function: {odd_numbers1}\")\n",
    "\n",
    "# filter with a lambda funtcion and multiple conditions\n",
    "persons_dic=[{\n",
    "    \"name\": \"krishn\",\n",
    "    \"age\" : 29,\n",
    "    \"address\":\"Hyd\"\n",
    "},{\n",
    "    \"name\": \"Denis\",\n",
    "    \"age\" : 49,\n",
    "    \"address\":\"Miami\"\n",
    "},{\n",
    "    \"name\": \"Escobar\",\n",
    "    \"age\" :31,\n",
    "    \"address\":\"Delhi\"\n",
    "}]\n",
    "## filter the persons dictionary where age is greater than 30\n",
    "\n",
    "ageGr30=list(filter(lambda personObj:personObj['age']>30,persons_dic))\n",
    "\n",
    "\n",
    "ageGr301=list(map(lambda name:name['name'],filter(lambda personObj:personObj['age']>30,persons_dic)))\n",
    "print(f\"persons whos age is mnore than 30 are: {ageGr30}\")\n",
    "print(ageGr301)\n"
   ]
  },
  {
   "cell_type": "code",
   "execution_count": null,
   "metadata": {
    "colab": {
     "base_uri": "https://localhost:8080/"
    },
    "id": "U8gpGudDXhIZ",
    "outputId": "6a739ad7-da3f-4d9c-e029-cc436dbaa2a5"
   },
   "outputs": [],
   "source": [
    "def generate_inverted_triangle(n):\n",
    "  result=[]\n",
    "  for i in range(n):\n",
    "    temp=\"\"\n",
    "    for j in range(i+1):\n",
    "        temp+=\"*\"\n",
    "    result.append(temp)\n",
    "  return result[::-1]\n",
    "\n",
    "\n",
    "print(generate_inverted_triangle(10))"
   ]
  },
  {
   "cell_type": "markdown",
   "metadata": {},
   "source": [
    "*********** Imports and Packages ************  it's all about how we import packages \n"
   ]
  },
  {
   "cell_type": "code",
   "execution_count": 29,
   "metadata": {},
   "outputs": [
    {
     "name": "stdout",
     "output_type": "stream",
     "text": [
      "3.141592653589793\n",
      "[1 2 3 4 5 6]\n"
     ]
    }
   ],
   "source": [
    "import math \n",
    "math.sqrt(16)\n",
    "\n",
    "\n",
    "from math import sqrt\n",
    "\n",
    "sqrt(64)\n",
    "\n",
    "import numpy as np\n",
    "\n",
    "from math import sqrt,pi\n",
    "\n",
    "print(pi)\n",
    "print(np.array([1,2,3,4,5,6]))"
   ]
  },
  {
   "cell_type": "code",
   "execution_count": 5,
   "metadata": {},
   "outputs": [
    {
     "name": "stdout",
     "output_type": "stream",
     "text": [
      "array('i', [1, 2, 3, 4, 5, 6])\n",
      "93\n",
      "orange\n"
     ]
    }
   ],
   "source": [
    "##import\n",
    "import array\n",
    "arr=array.array('i',[1,2,3,4,5,6])\n",
    "print(arr)\n",
    "\n",
    "# Random\n",
    "\n",
    "import random\n",
    "print(random.randint(1,100))\n",
    "\n",
    "print(random.choice(['apple','orange','grape']))"
   ]
  },
  {
   "cell_type": "code",
   "execution_count": null,
   "metadata": {},
   "outputs": [
    {
     "name": "stdout",
     "output_type": "stream",
     "text": [
      "c:\\Users\\vinodkumargu\\OneDrive - HCL Technologies Ltd\\Documents\\PythonDSA_26Nov2024\n"
     ]
    }
   ],
   "source": [
    "## File and directory access OS\n",
    "import os\n",
    "print(os.getcwd())\n",
    "##os.makedirs('Test')\n",
    "## open or create a file \n",
    "with open(\"text_tet.txt\", 'w') as file:\n",
    "    pass\n",
    "\n"
   ]
  },
  {
   "cell_type": "code",
   "execution_count": 4,
   "metadata": {},
   "outputs": [
    {
     "data": {
      "text/plain": [
       "'dest.txt'"
      ]
     },
     "execution_count": 4,
     "metadata": {},
     "output_type": "execute_result"
    }
   ],
   "source": [
    "## High level operations on files  and collections of files\n",
    "import shutil\n",
    "shutil.copyfile('text_tet.txt',\"dest.txt\")"
   ]
  },
  {
   "cell_type": "code",
   "execution_count": 17,
   "metadata": {},
   "outputs": [
    {
     "name": "stdout",
     "output_type": "stream",
     "text": [
      "{\"name\": \"Krish\", \"age\": 30, \"address\": \"Pune\"}\n",
      "<class 'str'>\n",
      "{'name': 'Krish', 'age': 30, 'address': 'Pune'}\n",
      "<class 'dict'>\n"
     ]
    }
   ],
   "source": [
    "## Data Serialization\n",
    "import json \n",
    "data={\n",
    "    'name': 'Krish',\n",
    "    'age' :30,\n",
    "    'address':'Pune'\n",
    "}\n",
    "json_str=json.dumps(data)\n",
    "\n",
    "print(json_str)\n",
    "\n",
    "print(type(json_str))\n",
    "\n",
    "parsed_data=json.loads(json_str)\n",
    "\n",
    "print(parsed_data)\n",
    "\n",
    "print(type(parsed_data))\n"
   ]
  },
  {
   "cell_type": "code",
   "execution_count": 21,
   "metadata": {},
   "outputs": [
    {
     "name": "stdout",
     "output_type": "stream",
     "text": [
      "['name', 'age']\n",
      "['krishn', '30']\n"
     ]
    }
   ],
   "source": [
    "## CSV\n",
    "import csv\n",
    "with open('example.csv', mode='w',newline='') as file:\n",
    "    writer= csv.writer(file)\n",
    "    writer.writerow(['name','age'])\n",
    "    writer.writerow(['krishn','30'])\n",
    "\n",
    "with open('example.csv',mode='r') as file:\n",
    "    reader=csv.reader(file)\n",
    "    for row in reader:\n",
    "        print(row)\n"
   ]
  },
  {
   "cell_type": "code",
   "execution_count": 24,
   "metadata": {},
   "outputs": [
    {
     "name": "stdout",
     "output_type": "stream",
     "text": [
      "2024-11-26 21:50:55.242492\n",
      "2024-11-25 21:50:55.242492\n",
      "1732638055.2432075\n"
     ]
    }
   ],
   "source": [
    "## datatime\n",
    "from datetime import  datetime,timedelta\n",
    "now=datetime.now()\n",
    "print(now)\n",
    "yesterday=now-timedelta(days=1)\n",
    "print(yesterday)\n",
    "\n",
    "#time \n",
    "import time\n",
    "print(time.time())"
   ]
  },
  {
   "cell_type": "code",
   "execution_count": 25,
   "metadata": {},
   "outputs": [
    {
     "name": "stdout",
     "output_type": "stream",
     "text": [
      "123\n"
     ]
    }
   ],
   "source": [
    "##Regular expression s\n",
    "\n",
    "import re\n",
    "pattern=r'\\d+'\n",
    "text=\"the are 123 apples\"\n",
    "match=re.search(pattern,text)\n",
    "print(match.group())"
   ]
  },
  {
   "cell_type": "markdown",
   "metadata": {},
   "source": [
    "## File Operations ----> Read and Write operations\n",
    "\n",
    "\n"
   ]
  },
  {
   "cell_type": "code",
   "execution_count": 5,
   "metadata": {},
   "outputs": [
    {
     "name": "stdout",
     "output_type": "stream",
     "text": [
      "Hello how are you ?\n",
      "\n",
      "I am fine\n",
      "\n",
      "welcome to the course\n",
      "Hello how are you ?\n",
      "\n",
      "I am fine\n",
      "\n",
      "welcome to the courseI'm adding one more line at the end I'm adding one more line at the end \n"
     ]
    }
   ],
   "source": [
    "def printFile():\n",
    "    with open (\"dest.txt\",'r') as file:\n",
    "        for line in file:\n",
    "            print(line)\n",
    "\n",
    "\n",
    "printFile()\n",
    "## write \n",
    "with open(\"dest.txt\",'a',) as file:\n",
    "    file.write(\"I'm adding one more line at the end \")\n",
    "    file.write(\"I'm adding one more line at the end \")\n",
    "\n",
    "\n",
    "printFile()\n"
   ]
  },
  {
   "cell_type": "code",
   "execution_count": 6,
   "metadata": {},
   "outputs": [],
   "source": [
    "## writing a list of lines to a file\n",
    "lines=['First Line','Second line','Third Line','Fourth Line']\n",
    "with open('text_tet.txt','a') as file:\n",
    "    file.writelines(lines)\n"
   ]
  },
  {
   "cell_type": "code",
   "execution_count": null,
   "metadata": {},
   "outputs": [
    {
     "name": "stdout",
     "output_type": "stream",
     "text": [
      "\n",
      "Hello , Team this is all about python \n",
      " we are very exicited to be parts of python\n"
     ]
    }
   ],
   "source": [
    "## Reading and writre\n",
    "\n",
    "with open(\"weclome.txt\",'w+') as file:\n",
    "    file.writelines(\"Hello , Team this is all about python \\n\")\n",
    "    file.writelines(\" we are very exicited to be parts of python\")\n",
    "    ##file.seek(0)\n",
    "## read\n",
    "    contents=file.read()\n",
    "    print(contents)## WE won't get the anything bcz the curosr at end of the file\n",
    "    ## bcz we written somethin in the file and cursor at the end \n",
    "    ##so we have to move curos to strat by using seek method or else writre separet thread to open the file in read mode and get the contents \n",
    "\n",
    "with open(\"weclome.txt\",'r') as file:\n",
    "    cont=file.read()\n",
    "    print(cont)"
   ]
  },
  {
   "cell_type": "code",
   "execution_count": 2,
   "metadata": {},
   "outputs": [
    {
     "name": "stdout",
     "output_type": "stream",
     "text": [
      ".git\n",
      "Basics.ipynb\n",
      "dest.txt\n",
      "DSA_CRIO_Pyrthon.ipynb\n",
      "DSA_CRIO_Python.ipynb\n",
      "example.csv\n",
      "SearchigTech.ipynb\n",
      "Sortings.ipynb\n",
      "Test\n",
      "text_tet.txt\n",
      "weclome.txt\n"
     ]
    }
   ],
   "source": [
    "## Listing file and directories\n",
    "import os\n",
    "items=os.listdir('.')\n",
    "for item in items:\n",
    "    print(item)"
   ]
  },
  {
   "cell_type": "code",
   "execution_count": 3,
   "metadata": {},
   "outputs": [
    {
     "name": "stdout",
     "output_type": "stream",
     "text": [
      " This is a directory path--->\n"
     ]
    }
   ],
   "source": [
    "## Checking if a path is a file or directory \n",
    "\n",
    "import os\n",
    "path=\".git\"\n",
    "if os.path.isfile(path):\n",
    "    print(f\" This is s file path------------>\")\n",
    "if os.path.isdir(path):\n",
    "    print(f\" This is a directory path--->\")"
   ]
  },
  {
   "cell_type": "markdown",
   "metadata": {},
   "source": [
    "************ Exception Handling **************"
   ]
  },
  {
   "cell_type": "code",
   "execution_count": 16,
   "metadata": {},
   "outputs": [
    {
     "name": "stdout",
     "output_type": "stream",
     "text": [
      "name 'b' is not defined\n"
     ]
    }
   ],
   "source": [
    "try:\n",
    "    a=b\n",
    "    mid=7/2*0\n",
    "    arr=[1,2,3,4,5]\n",
    "    print(arr[mid])\n",
    "except NameError as ne:\n",
    "    print(ne)\n",
    "except ZeroDivisionError as ze:\n",
    "    print(ze)\n",
    "\n"
   ]
  },
  {
   "cell_type": "code",
   "execution_count": null,
   "metadata": {},
   "outputs": [
    {
     "name": "stdout",
     "output_type": "stream",
     "text": [
      " Zero divison error , Please enter a number which is more than a zero-----\n"
     ]
    }
   ],
   "source": [
    "## TrY-- except---> else\n",
    "try:\n",
    "    user_input=int(input(\"Please enter the number only\"))\n",
    "    div=10/user_input\n",
    "    print(f\"the division is --> {div}\")\n",
    "except ValueError:\n",
    "    print(\" Value error occured becuase your are not given numeric data\")\n",
    "except ZeroDivisionError:\n",
    "    print(\" Zero divison error , Please enter a number which is more than a zero-----\")\n",
    "\n",
    "else:\n",
    "    print(\"hello\")"
   ]
  },
  {
   "cell_type": "code",
   "execution_count": 26,
   "metadata": {},
   "outputs": [
    {
     "name": "stdout",
     "output_type": "stream",
     "text": [
      "the division is --> 0.8333333333333334\n",
      "hello\n",
      " If exceptio occurs or not , I'm here to server you \n"
     ]
    }
   ],
   "source": [
    "## Try -- Except--- Else--- finally\n",
    "\n",
    "\n",
    "try:\n",
    "    user_input=int(input(\"Please enter the number only\"))\n",
    "    div=10/user_input\n",
    "    print(f\"the division is --> {div}\")\n",
    "except ValueError:\n",
    "    print(\" Value error occured becuase your are not given numeric data\")\n",
    "except ZeroDivisionError:\n",
    "    print(\" Zero divison error , Please enter a number which is more than a zero-----\")\n",
    "\n",
    "else:\n",
    "    print(\"hello\")\n",
    "finally:\n",
    "    print(\" If exceptio occurs or not , I'm here to server you \")"
   ]
  }
 ],
 "metadata": {
  "colab": {
   "provenance": []
  },
  "kernelspec": {
   "display_name": "Python 3",
   "language": "python",
   "name": "python3"
  },
  "language_info": {
   "codemirror_mode": {
    "name": "ipython",
    "version": 3
   },
   "file_extension": ".py",
   "mimetype": "text/x-python",
   "name": "python",
   "nbconvert_exporter": "python",
   "pygments_lexer": "ipython3",
   "version": "3.13.0"
  }
 },
 "nbformat": 4,
 "nbformat_minor": 0
}
