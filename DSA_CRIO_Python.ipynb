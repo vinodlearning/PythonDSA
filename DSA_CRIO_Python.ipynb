{
 "cells": [
  {
   "cell_type": "markdown",
   "metadata": {
    "colab_type": "text",
    "id": "view-in-github"
   },
   "source": [
    "<a href=\"https://colab.research.google.com/github/vinodlearning/PythonDSA/blob/main/DSA_CRIO_Python.ipynb\" target=\"_parent\"><img src=\"https://colab.research.google.com/assets/colab-badge.svg\" alt=\"Open In Colab\"/></a>"
   ]
  },
  {
   "cell_type": "code",
   "execution_count": 16,
   "metadata": {
    "colab": {
     "base_uri": "https://localhost:8080/"
    },
    "id": "Se2viopC78T4",
    "outputId": "8de93f40-40d2-48a5-d465-c589f60b0ca0"
   },
   "outputs": [
    {
     "name": "stdout",
     "output_type": "stream",
     "text": [
      "False\n"
     ]
    }
   ],
   "source": [
    "\"\"\"\n",
    "Problem Description\n",
    "Given a sorted array of integers and a target, find if there’s a\n",
    "pair of elements that add up to the target. Return true if such a pair\n",
    "can be found, and false otherwise.\n",
    "\n",
    "Input format\n",
    "There are 3 lines of input.\n",
    "\n",
    "First line contains an Integer N that represents the number of elements in the array.\n",
    "\n",
    "Second line contains N space separated integers, which are members of the array.\n",
    "\n",
    "Third line contains an integer X, which is the target value.\n",
    "\n",
    "Output format\n",
    "Print \"Present\" if there is such a pair present in the array otherwise print \"Not Present\".\n",
    "\"\"\"\n",
    "\n",
    "def twoSumInSortedArray(target_sum,nums_lst):\n",
    "##target_sum=7\n",
    "##nums_lst=[2, 4, 5, 8, 9]## as given statement saying it's a sorted so\n",
    "  nums_size=len(nums_lst)\n",
    "  i=0\n",
    "  j=nums_size-1\n",
    "  while(i<j):\n",
    "    sum=nums_lst[i]+nums_lst[j]\n",
    "    if target_sum==sum:\n",
    "      return True\n",
    "\n",
    "    elif target_sum<sum:\n",
    "      j-=1\n",
    "    else:\n",
    "      i+=1\n",
    "\n",
    "  return False\n",
    "\n",
    "\n",
    "print(twoSumInSortedArray(70,[2, 4, 5, 8, 9]))\n",
    "\n",
    "\n"
   ]
  },
  {
   "cell_type": "markdown",
   "metadata": {},
   "source": [
    "Problem Description\n",
    "Given a sorted array, remove the duplicates in-place, such that each element in the array appears at most twice, and return the new length.\n",
    "\n",
    "Do not allocate extra space for another array, you must do this by modifying the input array in-place with O(1) extra memory.\n",
    "\n",
    "Input format\n",
    "There are two lines of input.\n",
    "\n",
    "First line contains an integer n - Number of elements.\n",
    "\n",
    "Second line contains n space separated integers - The array nums.\n",
    "\n",
    "Output format\n",
    "Print the new length in the first line.\n",
    "\n",
    "In the second line print the nums array upto the new length.\n",
    "\n",
    "Sample Input 1\n",
    "7\n",
    "\n",
    "2 2 2 3 4 4 9\n",
    "\n",
    "Sample Output 1\n",
    "6\n",
    "\n",
    "2 2 3 4 4 9\n",
    "\n",
    "solution in the below"
   ]
  },
  {
   "cell_type": "code",
   "execution_count": null,
   "metadata": {
    "id": "uTQZA5Cz9vVS"
   },
   "outputs": [],
   "source": []
  }
 ],
 "metadata": {
  "colab": {
   "authorship_tag": "ABX9TyNnTf1XAMqhF9DsaBbro6oq",
   "include_colab_link": true,
   "provenance": []
  },
  "kernelspec": {
   "display_name": "Python 3",
   "name": "python3"
  },
  "language_info": {
   "name": "python"
  }
 },
 "nbformat": 4,
 "nbformat_minor": 0
}
