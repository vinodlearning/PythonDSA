{
 "cells": [
  {
   "cell_type": "markdown",
   "metadata": {
    "colab_type": "text",
    "id": "view-in-github"
   },
   "source": [
    "<a href=\"https://colab.research.google.com/github/vinodlearning/PythonDSA/blob/main/DSA_CRIO_Python.ipynb\" target=\"_parent\"><img src=\"https://colab.research.google.com/assets/colab-badge.svg\" alt=\"Open In Colab\"/></a>"
   ]
  },
  {
   "cell_type": "code",
   "execution_count": 16,
   "metadata": {
    "colab": {
     "base_uri": "https://localhost:8080/"
    },
    "id": "Se2viopC78T4",
    "outputId": "8de93f40-40d2-48a5-d465-c589f60b0ca0"
   },
   "outputs": [
    {
     "name": "stdout",
     "output_type": "stream",
     "text": [
      "False\n"
     ]
    }
   ],
   "source": [
    "\"\"\"\n",
    "Problem Description\n",
    "Given a sorted array of integers and a target, find if there’s a\n",
    "pair of elements that add up to the target. Return true if such a pair\n",
    "can be found, and false otherwise.\n",
    "\n",
    "Input format\n",
    "There are 3 lines of input.\n",
    "\n",
    "First line contains an Integer N that represents the number of elements in the array.\n",
    "\n",
    "Second line contains N space separated integers, which are members of the array.\n",
    "\n",
    "Third line contains an integer X, which is the target value.\n",
    "\n",
    "Output format\n",
    "Print \"Present\" if there is such a pair present in the array otherwise print \"Not Present\".\n",
    "\"\"\"\n",
    "\n",
    "def twoSumInSortedArray(target_sum,nums_lst):\n",
    "##target_sum=7\n",
    "##nums_lst=[2, 4, 5, 8, 9]## as given statement saying it's a sorted so\n",
    "  nums_size=len(nums_lst)\n",
    "  i=0\n",
    "  j=nums_size-1\n",
    "  while(i<j):\n",
    "    sum=nums_lst[i]+nums_lst[j]\n",
    "    if target_sum==sum:\n",
    "      return True\n",
    "\n",
    "    elif target_sum<sum:\n",
    "      j-=1\n",
    "    else:\n",
    "      i+=1\n",
    "\n",
    "  return False\n",
    "\n",
    "\n",
    "print(twoSumInSortedArray(70,[2, 4, 5, 8, 9]))\n",
    "\n",
    "\n"
   ]
  },
  {
   "cell_type": "markdown",
   "metadata": {},
   "source": [
    "Problem Description\n",
    "Given a sorted array, remove the duplicates in-place, such that each element in the array appears at most twice, and return the new length.\n",
    "\n",
    "Do not allocate extra space for another array, you must do this by modifying the input array in-place with O(1) extra memory.\n",
    "\n",
    "Input format\n",
    "There are two lines of input.\n",
    "\n",
    "First line contains an integer n - Number of elements.\n",
    "\n",
    "Second line contains n space separated integers - The array nums.\n",
    "\n",
    "Output format\n",
    "Print the new length in the first line.\n",
    "\n",
    "In the second line print the nums array upto the new length.\n",
    "\n",
    "Sample Input 1\n",
    "7\n",
    "\n",
    "2 2 2 3 4 4 9\n",
    "\n",
    "Sample Output 1\n",
    "6\n",
    "\n",
    "2 2 3 4 4 9\n",
    "\n",
    "solution in the below"
   ]
  },
  {
   "cell_type": "code",
   "execution_count": null,
   "metadata": {
    "id": "uTQZA5Cz9vVS"
   },
   "outputs": [
    {
     "name": "stdout",
     "output_type": "stream",
     "text": [
      "[0, 0, 0, 0, 0]\n",
      "[0, 10, 21, 31, 42]\n",
      "Found the sub arry which is divisible by 4\n"
     ]
    }
   ],
   "source": [
    "\"\"\"\n",
    "Given an array of size is N . \n",
    "check if there exixts any subarry whose sum is divisible by N\n",
    "\n",
    "\"\"\"\n",
    "\n",
    "def check_subArry(arr,N):\n",
    "    ## using prefix \n",
    "    prefixArr=[0]* (N+1)\n",
    "    print(prefixArr)\n",
    "   ##calculate prefix\n",
    "    for i in range(N):\n",
    "      prefixArr[i+1]=prefixArr[i]+arr[i]\n",
    "      ##creating a set, if we found more than one reminder then we consider  it divisible \n",
    "    remainders = set()\n",
    "    print(prefixArr)\n",
    "    for i in range (N+1) :\n",
    "      current_reminder=prefixArr[i]%N\n",
    "      if current_reminder==0:\n",
    "         return True\n",
    "      for current_reminer in remainders:\n",
    "         return True\n",
    "      remainders.add(current_reminer)\n",
    "    return Flase\n",
    "\n",
    "arr=[10,11,10,11]\n",
    "N=4\n",
    "\n",
    "if check_subArry(arr,N):\n",
    "   print(f\"Found the sub arry which is divisible by {N}\")\n",
    "else:\n",
    "   print(f\"Not found the sub arry which is divisible by {N}\")\n",
    "\n"
   ]
  },
  {
   "cell_type": "code",
   "execution_count": null,
   "metadata": {},
   "outputs": [
    {
     "name": "stdout",
     "output_type": "stream",
     "text": [
      "0\n",
      "70304\n",
      "73008\n",
      "73112\n",
      "Excel column DDDD = 73116\n"
     ]
    }
   ],
   "source": [
    "\"\"\"\n",
    "given excel columns convertys to decimal numbers\n",
    "\n",
    "A B C D____> Z\n",
    "1 2 3 4____>26\n",
    "\n",
    "BD--> 26**1*2+26**0*4=56\n",
    "\n",
    "\"\"\"\n",
    "\n",
    "def checkDecimal(str):\n",
    "    result = 0\n",
    "    # for char in str:\n",
    "    #     # print(result * 26 )\n",
    "    #     # print((ord(char) - ord('A') + 1))\n",
    "    #     # result = result * 26 + (ord(char) - ord('A') + 1)\n",
    "    #     value=(ord(char) - ord('A') + 1)\n",
    "    n=len(str)\n",
    "    for index in range(len(str) - 1, -1, -1):\n",
    "        temp=(26**index)*(ord(str[index]) - ord('A') + 1)\n",
    "    return result\n",
    "\n",
    "column = \"DDDD\"\n",
    "value = checkDecimal(column)\n",
    "print(f\"Excel column {column} = {value}\")"
   ]
  },
  {
   "cell_type": "code",
   "execution_count": null,
   "metadata": {},
   "outputs": [
    {
     "name": "stdout",
     "output_type": "stream",
     "text": [
      "[1, 0, 3, 2]\n"
     ]
    }
   ],
   "source": [
    "# Given an array of distinct values \n",
    "# from 0 to N-1 of single N rearrange st a[i]=a[a[i]]\n",
    "\n",
    "def arrange(arr):\n",
    "    temparr=[0]*len(arr)\n",
    "    for i in arr:\n",
    "        temparr[i]=arr[arr[i]]    \n",
    "\n",
    "arrange([3,2,0,1])"
   ]
  },
  {
   "cell_type": "code",
   "execution_count": 51,
   "metadata": {},
   "outputs": [
    {
     "name": "stdout",
     "output_type": "stream",
     "text": [
      "Original array: [3, 2, 0, 1]\n",
      "[7, 2, 12, 9]\n",
      "Rearranged array: [1, 0, 3, 2]\n"
     ]
    }
   ],
   "source": [
    "def arrange(arr):\n",
    "    n = len(arr)\n",
    "    # First step: Encode both old and new values\n",
    "    for i in range(n):\n",
    "        arr[i] = arr[i] + (arr[arr[i]] % n) * n\n",
    "    print(arr)\n",
    "    # Second step: Decode to get final values\n",
    "    for i in range(n):\n",
    "        arr[i] = arr[i] // n\n",
    "    \n",
    "    return arr\n",
    "\n",
    "# Test cases\n",
    "arr = [3,2,0,1]\n",
    "print(f\"Original array: {arr}\")\n",
    "arrange(arr)\n",
    "print(f\"Rearranged array: {arr}\")"
   ]
  }
 ],
 "metadata": {
  "colab": {
   "authorship_tag": "ABX9TyNnTf1XAMqhF9DsaBbro6oq",
   "include_colab_link": true,
   "provenance": []
  },
  "kernelspec": {
   "display_name": "Python 3",
   "name": "python3"
  },
  "language_info": {
   "codemirror_mode": {
    "name": "ipython",
    "version": 3
   },
   "file_extension": ".py",
   "mimetype": "text/x-python",
   "name": "python",
   "nbconvert_exporter": "python",
   "pygments_lexer": "ipython3",
   "version": "3.13.0"
  }
 },
 "nbformat": 4,
 "nbformat_minor": 0
}
