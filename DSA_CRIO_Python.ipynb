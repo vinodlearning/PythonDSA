{
  "nbformat": 4,
  "nbformat_minor": 0,
  "metadata": {
    "colab": {
      "provenance": [],
      "authorship_tag": "ABX9TyNnTf1XAMqhF9DsaBbro6oq",
      "include_colab_link": true
    },
    "kernelspec": {
      "name": "python3",
      "display_name": "Python 3"
    },
    "language_info": {
      "name": "python"
    }
  },
  "cells": [
    {
      "cell_type": "markdown",
      "metadata": {
        "id": "view-in-github",
        "colab_type": "text"
      },
      "source": [
        "<a href=\"https://colab.research.google.com/github/vinodlearning/PythonDSA/blob/main/DSA_CRIO_Python.ipynb\" target=\"_parent\"><img src=\"https://colab.research.google.com/assets/colab-badge.svg\" alt=\"Open In Colab\"/></a>"
      ]
    },
    {
      "cell_type": "code",
      "execution_count": 16,
      "metadata": {
        "colab": {
          "base_uri": "https://localhost:8080/"
        },
        "id": "Se2viopC78T4",
        "outputId": "8de93f40-40d2-48a5-d465-c589f60b0ca0"
      },
      "outputs": [
        {
          "output_type": "stream",
          "name": "stdout",
          "text": [
            "False\n"
          ]
        }
      ],
      "source": [
        "\"\"\"\n",
        "Problem Description\n",
        "Given a sorted array of integers and a target, find if there’s a\n",
        "pair of elements that add up to the target. Return true if such a pair\n",
        "can be found, and false otherwise.\n",
        "\n",
        "Input format\n",
        "There are 3 lines of input.\n",
        "\n",
        "First line contains an Integer N that represents the number of elements in the array.\n",
        "\n",
        "Second line contains N space separated integers, which are members of the array.\n",
        "\n",
        "Third line contains an integer X, which is the target value.\n",
        "\n",
        "Output format\n",
        "Print \"Present\" if there is such a pair present in the array otherwise print \"Not Present\".\n",
        "\"\"\"\n",
        "\n",
        "def twoSumInSortedArray(target_sum,nums_lst):\n",
        "##target_sum=7\n",
        "##nums_lst=[2, 4, 5, 8, 9]## as given statement saying it's a sorted so\n",
        "  nums_size=len(nums_lst)\n",
        "  i=0\n",
        "  j=nums_size-1\n",
        "  while(i<j):\n",
        "    sum=nums_lst[i]+nums_lst[j]\n",
        "    if target_sum==sum:\n",
        "      return True\n",
        "\n",
        "    elif target_sum<sum:\n",
        "      j-=1\n",
        "    else:\n",
        "      i+=1\n",
        "\n",
        "  return False\n",
        "\n",
        "\n",
        "print(twoSumInSortedArray(70,[2, 4, 5, 8, 9]))\n",
        "\n",
        "\n"
      ]
    },
    {
      "cell_type": "code",
      "source": [],
      "metadata": {
        "id": "uTQZA5Cz9vVS"
      },
      "execution_count": null,
      "outputs": []
    }
  ]
}