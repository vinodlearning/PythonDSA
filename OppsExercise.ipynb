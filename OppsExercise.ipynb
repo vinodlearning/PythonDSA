{
 "cells": [
  {
   "cell_type": "code",
   "execution_count": 7,
   "metadata": {},
   "outputs": [
    {
     "name": "stdout",
     "output_type": "stream",
     "text": [
      "1300\n",
      "2100\n"
     ]
    }
   ],
   "source": [
    "class BankAccount:\n",
    "    def __init__(self, account_holder, initial_balance=0):\n",
    "        self.acaccount_holder=account_holder\n",
    "        self.initial_balance=initial_balance\n",
    "        ##self.account_number=account_number\n",
    "    def deposit(self,balance):\n",
    "         self.initial_balance+=balance\n",
    "    def withdrawal(self,balance):\n",
    "         self.initial_balance-=balance\n",
    "    def transfer(self,amount,other):\n",
    "         self.initial_balance-=amount\n",
    "         other.deposit(amount)\n",
    "    \n",
    "acc1 = BankAccount(\"John Doe\", 1000)\n",
    "acc2 = BankAccount(\"Jane Smith\", 2000)\n",
    "\n",
    "assert acc1.initial_balance == 1000\n",
    "assert acc2.initial_balance == 2000\n",
    "    \n",
    "acc1.deposit(500)\n",
    "acc2.withdrawal(100)\n",
    "acc1.transfer(200,acc2)\n",
    "print(acc1.initial_balance)\n",
    "print(acc2.initial_balance)\n"
   ]
  }
 ],
 "metadata": {
  "kernelspec": {
   "display_name": "Python 3",
   "language": "python",
   "name": "python3"
  },
  "language_info": {
   "codemirror_mode": {
    "name": "ipython",
    "version": 3
   },
   "file_extension": ".py",
   "mimetype": "text/x-python",
   "name": "python",
   "nbconvert_exporter": "python",
   "pygments_lexer": "ipython3",
   "version": "3.13.0"
  }
 },
 "nbformat": 4,
 "nbformat_minor": 2
}
